{
 "cells": [
  {
   "cell_type": "markdown",
   "id": "767609ec",
   "metadata": {},
   "source": [
    "**Shubham Gopal Raul**  \n",
    "*CB.EN.P2AEL23023*<br>"
   ]
  },
  {
   "cell_type": "markdown",
   "id": "6a6e6957",
   "metadata": {},
   "source": [
    "## <center>21BM681 Machine Learning and Embedded Programming Lab 12</center>"
   ]
  },
  {
   "cell_type": "markdown",
   "id": "4c7e7e31",
   "metadata": {},
   "source": [
    "### <center>Deep Learning Classifier Using Transfer Learning</center>"
   ]
  },
  {
   "cell_type": "code",
   "execution_count": 1,
   "id": "cfbaad56",
   "metadata": {},
   "outputs": [],
   "source": [
    "import pandas as pd\n",
    "import numpy as np\n",
    "from sklearn.preprocessing import LabelEncoder\n",
    "from sklearn.model_selection import train_test_split\n",
    "import tensorflow as tf\n",
    "from tensorflow import keras\n",
    "from tensorflow.keras.models import Sequential\n",
    "from tensorflow.keras.layers import Conv2D, MaxPooling2D, Flatten, Dense, Dropout\n",
    "from tensorflow.keras.utils import to_categorical\n",
    "from tensorflow.keras.applications import VGG16, ResNet50, InceptionV3, MobileNet\n",
    "from tensorflow.keras.datasets import cifar10\n",
    "from tensorflow.keras.layers import Input, Flatten, Dense\n",
    "from tensorflow.keras.models import Model\n",
    "from keras.optimizers import Adam\n",
    "import joblib\n",
    "import seaborn as sns\n",
    "import matplotlib.pyplot as plt\n",
    "import warnings\n",
    "warnings.filterwarnings(action='ignore')"
   ]
  },
  {
   "cell_type": "code",
   "execution_count": 2,
   "id": "0875bf91",
   "metadata": {},
   "outputs": [],
   "source": [
    "(train_images, train_labels), (test_images, test_labels) = cifar10.load_data()\n",
    "TestLable,TrainLable = test_labels,train_labels\n",
    "class_names = ['airplane', 'automobile', 'bird', 'cat', 'deer', 'dog', 'frog', 'horse', 'ship', 'truck']"
   ]
  },
  {
   "cell_type": "code",
   "execution_count": 3,
   "id": "0b5db859",
   "metadata": {},
   "outputs": [],
   "source": [
    "train_images = train_images / 255.0\n",
    "test_images = test_images / 255.0\n",
    "train_labels = to_categorical(train_labels, num_classes=10)\n",
    "test_labels = to_categorical(test_labels, num_classes=10)"
   ]
  },
  {
   "cell_type": "code",
   "execution_count": 4,
   "id": "276e71f7",
   "metadata": {
    "scrolled": false
   },
   "outputs": [],
   "source": [
    "def Deep_model(model_name,base_model):\n",
    "    model = Sequential()\n",
    "    model.add(base_model)\n",
    "    model.add(Flatten())\n",
    "    model.add(Dense(256, activation='relu'))\n",
    "    model.add(Dense(10, activation='softmax'))\n",
    "    model.compile(optimizer=Adam(lr=0.0001), loss='categorical_crossentropy', metrics=['accuracy'])\n",
    "    model.fit(train_images, train_labels, epochs=10, validation_data=(test_images, test_labels))\n",
    "    test_loss, test_acc = model.evaluate(test_images, test_labels)\n",
    "    print(f\"{model_name} Test accuracy: {test_acc}\")\n",
    "    return model"
   ]
  },
  {
   "cell_type": "code",
   "execution_count": 5,
   "id": "53240667",
   "metadata": {
    "scrolled": false
   },
   "outputs": [
    {
     "name": "stdout",
     "output_type": "stream",
     "text": [
      "WARNING:tensorflow:`input_shape` is undefined or non-square, or `rows` is not in [128, 160, 192, 224]. Weights for input shape (224, 224) will be loaded as the default.\n"
     ]
    }
   ],
   "source": [
    "\n",
    "Models = {\n",
    "    'VGG16' : VGG16(weights='imagenet', include_top=False, input_tensor=Input(shape=(32, 32, 3))),\n",
    "    'ResNet50' : ResNet50(weights='imagenet', include_top=False, input_tensor=Input(shape=(32, 32, 3))),\n",
    "    'MobileNet' : MobileNet(weights='imagenet', include_top=False, input_tensor=Input(shape=(32, 32, 3)))\n",
    "}"
   ]
  },
  {
   "cell_type": "code",
   "execution_count": null,
   "id": "d8002275",
   "metadata": {
    "scrolled": false
   },
   "outputs": [],
   "source": [
    "Class = []\n",
    "for key,val in Models.items():\n",
    "    mod = Deep_model(key,val)\n",
    "    joblib.dump(mod,key+'.pkl')\n",
    "    mod.predict(test_images)\n",
    "    Class.append(lable)"
   ]
  },
  {
   "cell_type": "code",
   "execution_count": 7,
   "id": "acf83309",
   "metadata": {},
   "outputs": [
    {
     "name": "stdout",
     "output_type": "stream",
     "text": [
      "313/313 [==============================] - 86s 272ms/step - loss: 0.7449 - accuracy: 0.7683\n",
      "VGG16 Test accuracy: 0.7682999968528748\n",
      "313/313 [==============================] - 54s 162ms/step - loss: 1.1056 - accuracy: 0.6107\n",
      "ResNet50 Test accuracy: 0.6107000112533569\n",
      "313/313 [==============================] - 17s 46ms/step - loss: 0.5793 - accuracy: 0.8119\n",
      "MobileNet Test accuracy: 0.8119000196456909\n"
     ]
    }
   ],
   "source": [
    "for key,val in Models.items():\n",
    "    mod = joblib.load(key+'.pkl')\n",
    "    test_loss, test_acc = mod.evaluate(test_images, test_labels)\n",
    "    print(f\"{key} Test accuracy: {test_acc}\")"
   ]
  },
  {
   "cell_type": "code",
   "execution_count": null,
   "id": "aca60691",
   "metadata": {},
   "outputs": [],
   "source": []
  }
 ],
 "metadata": {
  "kernelspec": {
   "display_name": "Python 3 (ipykernel)",
   "language": "python",
   "name": "python3"
  },
  "language_info": {
   "codemirror_mode": {
    "name": "ipython",
    "version": 3
   },
   "file_extension": ".py",
   "mimetype": "text/x-python",
   "name": "python",
   "nbconvert_exporter": "python",
   "pygments_lexer": "ipython3",
   "version": "3.11.3"
  }
 },
 "nbformat": 4,
 "nbformat_minor": 5
}
