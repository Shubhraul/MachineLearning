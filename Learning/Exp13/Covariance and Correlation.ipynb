{
 "cells": [
  {
   "cell_type": "code",
   "execution_count": 1,
   "id": "7997bea6",
   "metadata": {},
   "outputs": [],
   "source": [
    "import pandas as pd\n",
    "import numpy as np\n",
    "import math"
   ]
  },
  {
   "cell_type": "code",
   "execution_count": 2,
   "id": "741508c2",
   "metadata": {},
   "outputs": [],
   "source": [
    "def STD(data):\n",
    "    N = len(data)\n",
    "    m,s=sum(data)/N,0\n",
    "    for j in data:\n",
    "        s += ((j-m)**2)\n",
    "    var = s/(N-1)\n",
    "    std = math.sqrt(var)\n",
    "    return std"
   ]
  },
  {
   "cell_type": "code",
   "execution_count": 3,
   "id": "ab7984a0",
   "metadata": {},
   "outputs": [],
   "source": [
    "def Cov_Corr(df):\n",
    "    df = df.select_dtypes(include='number')\n",
    "    Cov,Cor,Fet= [],[],len(df.columns)\n",
    "    for i in df.columns:\n",
    "        for j in df.columns:\n",
    "            N,S=len(df[i]),0\n",
    "            I_mean = sum(df[i])/N\n",
    "            J_mean = sum(df[j])/N\n",
    "            for k in range(N):\n",
    "                S += (df[i][k]-I_mean)*(df[j][k]-J_mean)\n",
    "            tmp1 = S/(N-1)\n",
    "            Cov.append(tmp1)\n",
    "            tmp2 = tmp1/(STD(df[i])*STD(df[j]))\n",
    "            Cor.append(tmp2)\n",
    "    Cov = np.array(Cov).reshape(Fet,Fet)\n",
    "    Cor = np.array(Cor).reshape(Fet,Fet)\n",
    "    Cov = pd.DataFrame(Cov,index=df.columns,columns=df.columns)\n",
    "    Cor = pd.DataFrame(Cor,index=df.columns,columns=df.columns)\n",
    "    return [Cov,Cor]"
   ]
  },
  {
   "cell_type": "code",
   "execution_count": 4,
   "id": "aa9376fa",
   "metadata": {},
   "outputs": [
    {
     "data": {
      "text/html": [
       "<div>\n",
       "<style scoped>\n",
       "    .dataframe tbody tr th:only-of-type {\n",
       "        vertical-align: middle;\n",
       "    }\n",
       "\n",
       "    .dataframe tbody tr th {\n",
       "        vertical-align: top;\n",
       "    }\n",
       "\n",
       "    .dataframe thead th {\n",
       "        text-align: right;\n",
       "    }\n",
       "</style>\n",
       "<table border=\"1\" class=\"dataframe\">\n",
       "  <thead>\n",
       "    <tr style=\"text-align: right;\">\n",
       "      <th></th>\n",
       "      <th>x</th>\n",
       "      <th>y</th>\n",
       "    </tr>\n",
       "  </thead>\n",
       "  <tbody>\n",
       "    <tr>\n",
       "      <th>0</th>\n",
       "      <td>1</td>\n",
       "      <td>2</td>\n",
       "    </tr>\n",
       "    <tr>\n",
       "      <th>1</th>\n",
       "      <td>2</td>\n",
       "      <td>5</td>\n",
       "    </tr>\n",
       "    <tr>\n",
       "      <th>2</th>\n",
       "      <td>3</td>\n",
       "      <td>10</td>\n",
       "    </tr>\n",
       "  </tbody>\n",
       "</table>\n",
       "</div>"
      ],
      "text/plain": [
       "   x   y\n",
       "0  1   2\n",
       "1  2   5\n",
       "2  3  10"
      ]
     },
     "execution_count": 4,
     "metadata": {},
     "output_type": "execute_result"
    }
   ],
   "source": [
    "data = { 'x':np.array([i for i in range(1,20)]),'y':np.array([(i**2)+1 for i in range(1,20)])}\n",
    "df1 = pd.DataFrame(data)\n",
    "df1.head(3)"
   ]
  },
  {
   "cell_type": "code",
   "execution_count": 5,
   "id": "0e4c1a0f",
   "metadata": {},
   "outputs": [
    {
     "name": "stdout",
     "output_type": "stream",
     "text": [
      "Corelation and Covariance of user datausing Built in Library\n",
      "\n",
      "Covariance : \n",
      "            x             y\n",
      "x   31.666667    633.333333\n",
      "y  633.333333  13420.333333\n",
      "Corelation : \n",
      "          x         y\n",
      "x  1.000000  0.971515\n",
      "y  0.971515  1.000000\n"
     ]
    }
   ],
   "source": [
    "df_cov,df_cor = df1.cov(),df1.corr()\n",
    "print('Corelation and Covariance of user datausing Built in Library',end='\\n\\n')\n",
    "print('Covariance : ',df_cov,sep='\\n')\n",
    "print('Corelation : ',df_cor,sep='\\n')"
   ]
  },
  {
   "cell_type": "code",
   "execution_count": 6,
   "id": "23a6705d",
   "metadata": {},
   "outputs": [
    {
     "name": "stdout",
     "output_type": "stream",
     "text": [
      "Corelation and Covariance of user data using define Function\n",
      "\n",
      "Covariance : \n",
      "            x             y\n",
      "x   31.666667    633.333333\n",
      "y  633.333333  13420.333333\n",
      "Corelation : \n",
      "          x         y\n",
      "x  1.000000  0.971515\n",
      "y  0.971515  1.000000\n"
     ]
    }
   ],
   "source": [
    "df_cov1,df_cor1 = Cov_Corr(df1)\n",
    "print('Corelation and Covariance of user data using define Function',end='\\n\\n')\n",
    "print('Covariance : ',df_cov1,sep='\\n')\n",
    "print('Corelation : ',df_cor1,sep='\\n')"
   ]
  },
  {
   "cell_type": "code",
   "execution_count": 7,
   "id": "ae5b109a",
   "metadata": {},
   "outputs": [
    {
     "data": {
      "text/html": [
       "<div>\n",
       "<style scoped>\n",
       "    .dataframe tbody tr th:only-of-type {\n",
       "        vertical-align: middle;\n",
       "    }\n",
       "\n",
       "    .dataframe tbody tr th {\n",
       "        vertical-align: top;\n",
       "    }\n",
       "\n",
       "    .dataframe thead th {\n",
       "        text-align: right;\n",
       "    }\n",
       "</style>\n",
       "<table border=\"1\" class=\"dataframe\">\n",
       "  <thead>\n",
       "    <tr style=\"text-align: right;\">\n",
       "      <th></th>\n",
       "      <th>Sepal_length</th>\n",
       "      <th>Sepal_width</th>\n",
       "      <th>Petal_length</th>\n",
       "      <th>Petal_width</th>\n",
       "      <th>Species</th>\n",
       "    </tr>\n",
       "  </thead>\n",
       "  <tbody>\n",
       "    <tr>\n",
       "      <th>0</th>\n",
       "      <td>5.1</td>\n",
       "      <td>3.5</td>\n",
       "      <td>1.4</td>\n",
       "      <td>0.2</td>\n",
       "      <td>Iris-setosa</td>\n",
       "    </tr>\n",
       "    <tr>\n",
       "      <th>1</th>\n",
       "      <td>4.9</td>\n",
       "      <td>3.0</td>\n",
       "      <td>1.4</td>\n",
       "      <td>0.2</td>\n",
       "      <td>Iris-setosa</td>\n",
       "    </tr>\n",
       "    <tr>\n",
       "      <th>2</th>\n",
       "      <td>4.7</td>\n",
       "      <td>3.2</td>\n",
       "      <td>1.3</td>\n",
       "      <td>0.2</td>\n",
       "      <td>Iris-setosa</td>\n",
       "    </tr>\n",
       "  </tbody>\n",
       "</table>\n",
       "</div>"
      ],
      "text/plain": [
       "   Sepal_length  Sepal_width  Petal_length  Petal_width      Species\n",
       "0           5.1          3.5           1.4          0.2  Iris-setosa\n",
       "1           4.9          3.0           1.4          0.2  Iris-setosa\n",
       "2           4.7          3.2           1.3          0.2  Iris-setosa"
      ]
     },
     "execution_count": 7,
     "metadata": {},
     "output_type": "execute_result"
    }
   ],
   "source": [
    "#Loading Iris Dataset\n",
    "Iris = pd.read_csv('../Data/iris.csv',names=['Sepal_length','Sepal_width','Petal_length','Petal_width','Species'])\n",
    "Iris.head(3)"
   ]
  },
  {
   "cell_type": "code",
   "execution_count": 8,
   "id": "09c9ce00",
   "metadata": {},
   "outputs": [
    {
     "name": "stdout",
     "output_type": "stream",
     "text": [
      "Corelation and Covariance of iris data using Built in Library\n",
      "\n",
      "Covariance : \n",
      "              Sepal_length  Sepal_width  Petal_length  Petal_width\n",
      "Sepal_length      0.685694    -0.039268      1.273682     0.516904\n",
      "Sepal_width      -0.039268     0.188004     -0.321713    -0.117981\n",
      "Petal_length      1.273682    -0.321713      3.113179     1.296387\n",
      "Petal_width       0.516904    -0.117981      1.296387     0.582414\n",
      "Corelation : \n",
      "              Sepal_length  Sepal_width  Petal_length  Petal_width\n",
      "Sepal_length      1.000000    -0.109369      0.871754     0.817954\n",
      "Sepal_width      -0.109369     1.000000     -0.420516    -0.356544\n",
      "Petal_length      0.871754    -0.420516      1.000000     0.962757\n",
      "Petal_width       0.817954    -0.356544      0.962757     1.000000\n"
     ]
    },
    {
     "name": "stderr",
     "output_type": "stream",
     "text": [
      "C:\\Users\\Hi\\AppData\\Local\\Temp\\ipykernel_18516\\1343130362.py:1: FutureWarning: The default value of numeric_only in DataFrame.cov is deprecated. In a future version, it will default to False. Select only valid columns or specify the value of numeric_only to silence this warning.\n",
      "  Iris_cov,Iris_cor = Iris.cov(),Iris.corr()\n",
      "C:\\Users\\Hi\\AppData\\Local\\Temp\\ipykernel_18516\\1343130362.py:1: FutureWarning: The default value of numeric_only in DataFrame.corr is deprecated. In a future version, it will default to False. Select only valid columns or specify the value of numeric_only to silence this warning.\n",
      "  Iris_cov,Iris_cor = Iris.cov(),Iris.corr()\n"
     ]
    }
   ],
   "source": [
    "Iris_cov,Iris_cor = Iris.cov(),Iris.corr()\n",
    "print('Corelation and Covariance of iris data using Built in Library',end='\\n\\n')\n",
    "print('Covariance : ',Iris_cov,sep='\\n')\n",
    "print('Corelation : ',Iris_cor,sep='\\n')"
   ]
  },
  {
   "cell_type": "code",
   "execution_count": 9,
   "id": "9e5b405f",
   "metadata": {},
   "outputs": [
    {
     "name": "stdout",
     "output_type": "stream",
     "text": [
      "Corelation and Covariance of iris data using define Function\n",
      "\n",
      "Covariance : \n",
      "              Sepal_length  Sepal_width  Petal_length  Petal_width\n",
      "Sepal_length      0.685694    -0.039268      1.273682     0.516904\n",
      "Sepal_width      -0.039268     0.188004     -0.321713    -0.117981\n",
      "Petal_length      1.273682    -0.321713      3.113179     1.296387\n",
      "Petal_width       0.516904    -0.117981      1.296387     0.582414\n",
      "Corelation : \n",
      "              Sepal_length  Sepal_width  Petal_length  Petal_width\n",
      "Sepal_length      1.000000    -0.109369      0.871754     0.817954\n",
      "Sepal_width      -0.109369     1.000000     -0.420516    -0.356544\n",
      "Petal_length      0.871754    -0.420516      1.000000     0.962757\n",
      "Petal_width       0.817954    -0.356544      0.962757     1.000000\n"
     ]
    }
   ],
   "source": [
    "Iris_cov1,Iris_cor1 = Cov_Corr(Iris)\n",
    "print('Corelation and Covariance of iris data using define Function',end='\\n\\n')\n",
    "print('Covariance : ',Iris_cov1,sep='\\n')\n",
    "print('Corelation : ',Iris_cor1,sep='\\n')"
   ]
  }
 ],
 "metadata": {
  "kernelspec": {
   "display_name": "Python 3 (ipykernel)",
   "language": "python",
   "name": "python3"
  },
  "language_info": {
   "codemirror_mode": {
    "name": "ipython",
    "version": 3
   },
   "file_extension": ".py",
   "mimetype": "text/x-python",
   "name": "python",
   "nbconvert_exporter": "python",
   "pygments_lexer": "ipython3",
   "version": "3.11.3"
  }
 },
 "nbformat": 4,
 "nbformat_minor": 5
}
