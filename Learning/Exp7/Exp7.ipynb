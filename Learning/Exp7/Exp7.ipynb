{
 "cells": [
  {
   "cell_type": "markdown",
   "id": "9cddc82a",
   "metadata": {},
   "source": [
    "**Shubham Gopal Raul**  \n",
    "*CB.EN.P2AEL23023*<br>"
   ]
  },
  {
   "cell_type": "markdown",
   "id": "43b4d8b6",
   "metadata": {},
   "source": [
    "## <center>21BM681 Machine Learning and Embedded Programming Lab 7</center>"
   ]
  },
  {
   "cell_type": "markdown",
   "id": "bceeb220",
   "metadata": {},
   "source": [
    "### <center>Baysian Classifier</center>"
   ]
  },
  {
   "cell_type": "code",
   "execution_count": 1,
   "id": "7bba74d6",
   "metadata": {},
   "outputs": [],
   "source": [
    "import pandas as pd\n",
    "import numpy as np\n",
    "from sklearn.preprocessing import LabelEncoder, OrdinalEncoder\n",
    "from sklearn.metrics import confusion_matrix, classification_report, precision_score, recall_score, f1_score,accuracy_score\n",
    "from sklearn.model_selection import train_test_split\n",
    "from sklearn.naive_bayes import GaussianNB\n",
    "from sklearn.decomposition import PCA\n",
    "from sklearn.metrics import accuracy_score, confusion_matrix"
   ]
  },
  {
   "cell_type": "code",
   "execution_count": 2,
   "id": "aa09d003",
   "metadata": {},
   "outputs": [
    {
     "data": {
      "text/html": [
       "<div>\n",
       "<style scoped>\n",
       "    .dataframe tbody tr th:only-of-type {\n",
       "        vertical-align: middle;\n",
       "    }\n",
       "\n",
       "    .dataframe tbody tr th {\n",
       "        vertical-align: top;\n",
       "    }\n",
       "\n",
       "    .dataframe thead th {\n",
       "        text-align: right;\n",
       "    }\n",
       "</style>\n",
       "<table border=\"1\" class=\"dataframe\">\n",
       "  <thead>\n",
       "    <tr style=\"text-align: right;\">\n",
       "      <th></th>\n",
       "      <th>Buying_price</th>\n",
       "      <th>Maintainance_Price</th>\n",
       "      <th>No_of_doors</th>\n",
       "      <th>Person_Capacity</th>\n",
       "      <th>Size_of_luggage</th>\n",
       "      <th>Safety</th>\n",
       "      <th>Acceptability</th>\n",
       "    </tr>\n",
       "  </thead>\n",
       "  <tbody>\n",
       "    <tr>\n",
       "      <th>0</th>\n",
       "      <td>vhigh</td>\n",
       "      <td>vhigh</td>\n",
       "      <td>2</td>\n",
       "      <td>2</td>\n",
       "      <td>small</td>\n",
       "      <td>med</td>\n",
       "      <td>unacc</td>\n",
       "    </tr>\n",
       "    <tr>\n",
       "      <th>1</th>\n",
       "      <td>vhigh</td>\n",
       "      <td>vhigh</td>\n",
       "      <td>2</td>\n",
       "      <td>2</td>\n",
       "      <td>small</td>\n",
       "      <td>high</td>\n",
       "      <td>unacc</td>\n",
       "    </tr>\n",
       "    <tr>\n",
       "      <th>2</th>\n",
       "      <td>vhigh</td>\n",
       "      <td>vhigh</td>\n",
       "      <td>2</td>\n",
       "      <td>2</td>\n",
       "      <td>med</td>\n",
       "      <td>low</td>\n",
       "      <td>unacc</td>\n",
       "    </tr>\n",
       "    <tr>\n",
       "      <th>3</th>\n",
       "      <td>vhigh</td>\n",
       "      <td>vhigh</td>\n",
       "      <td>2</td>\n",
       "      <td>2</td>\n",
       "      <td>med</td>\n",
       "      <td>med</td>\n",
       "      <td>unacc</td>\n",
       "    </tr>\n",
       "    <tr>\n",
       "      <th>4</th>\n",
       "      <td>vhigh</td>\n",
       "      <td>vhigh</td>\n",
       "      <td>2</td>\n",
       "      <td>2</td>\n",
       "      <td>med</td>\n",
       "      <td>high</td>\n",
       "      <td>unacc</td>\n",
       "    </tr>\n",
       "  </tbody>\n",
       "</table>\n",
       "</div>"
      ],
      "text/plain": [
       "  Buying_price Maintainance_Price No_of_doors Person_Capacity Size_of_luggage  \\\n",
       "0        vhigh              vhigh           2               2           small   \n",
       "1        vhigh              vhigh           2               2           small   \n",
       "2        vhigh              vhigh           2               2             med   \n",
       "3        vhigh              vhigh           2               2             med   \n",
       "4        vhigh              vhigh           2               2             med   \n",
       "\n",
       "  Safety Acceptability  \n",
       "0    med         unacc  \n",
       "1   high         unacc  \n",
       "2    low         unacc  \n",
       "3    med         unacc  \n",
       "4   high         unacc  "
      ]
     },
     "execution_count": 2,
     "metadata": {},
     "output_type": "execute_result"
    }
   ],
   "source": [
    "car_data = pd.read_csv('../Data/car_evaluation.csv')\n",
    "car_data.columns = ['Buying_price','Maintainance_Price','No_of_doors','Person_Capacity','Size_of_luggage','Safety','Acceptability']\n",
    "car_data.head()"
   ]
  },
  {
   "cell_type": "code",
   "execution_count": 3,
   "id": "24fa3557",
   "metadata": {},
   "outputs": [
    {
     "data": {
      "text/plain": [
       "Buying_price          0\n",
       "Maintainance_Price    0\n",
       "No_of_doors           0\n",
       "Person_Capacity       0\n",
       "Size_of_luggage       0\n",
       "Safety                0\n",
       "Acceptability         0\n",
       "dtype: int64"
      ]
     },
     "execution_count": 3,
     "metadata": {},
     "output_type": "execute_result"
    }
   ],
   "source": [
    "car_data.isna().sum()"
   ]
  },
  {
   "cell_type": "markdown",
   "id": "6137d712",
   "metadata": {},
   "source": [
    "### Encoding"
   ]
  },
  {
   "cell_type": "code",
   "execution_count": 4,
   "id": "9a63b201",
   "metadata": {},
   "outputs": [],
   "source": [
    "##Label Encoding On Features\n",
    "Encoded_car = pd.DataFrame()\n",
    "Encoder = LabelEncoder()\n",
    "for i in car_data.columns[:-1]:\n",
    "    Encoded_car[i] = Encoder.fit_transform(car_data[i])\n",
    "    \n",
    "##Ordinal Encoding on Target Class\n",
    "categry = car_data['Acceptability'].unique()\n",
    "encoder = OrdinalEncoder(categories=[categry])\n",
    "Target = pd.DataFrame(encoder.fit_transform(car_data[['Acceptability']]),columns=['Acceptability'])"
   ]
  },
  {
   "cell_type": "code",
   "execution_count": 5,
   "id": "003b1120",
   "metadata": {},
   "outputs": [],
   "source": [
    "x_train, x_test, y_train, y_test = train_test_split(Encoded_car,Target,test_size=0.2 , random_state=100)"
   ]
  },
  {
   "cell_type": "code",
   "execution_count": 6,
   "id": "fb65b03a",
   "metadata": {},
   "outputs": [],
   "source": [
    "def report(model,Y_test,Y_pred):\n",
    "    cls = {\n",
    "        'Accuracy' : round(accuracy_score(Y_test,Y_pred),2),\n",
    "    'Precision Wgt' : round(precision_score(Y_test,Y_pred,average='weighted'),2),\n",
    "    'F1 Score Wgt': round(f1_score(Y_test,Y_pred,average='weighted'),2),\n",
    "     'Recall Wgt': round(recall_score(Y_test,Y_pred,average='weighted'),2)\n",
    "    }\n",
    "    return pd.DataFrame(cls.values(),index=cls.keys(),columns=[model])"
   ]
  },
  {
   "cell_type": "markdown",
   "id": "1ffc264b",
   "metadata": {},
   "source": [
    "### Naive Bayse Classifier"
   ]
  },
  {
   "cell_type": "code",
   "execution_count": 7,
   "id": "32211b70",
   "metadata": {},
   "outputs": [
    {
     "name": "stderr",
     "output_type": "stream",
     "text": [
      "C:\\Users\\Hi\\anaconda3\\Lib\\site-packages\\sklearn\\utils\\validation.py:1143: DataConversionWarning: A column-vector y was passed when a 1d array was expected. Please change the shape of y to (n_samples, ), for example using ravel().\n",
      "  y = column_or_1d(y, warn=True)\n",
      "C:\\Users\\Hi\\anaconda3\\Lib\\site-packages\\sklearn\\metrics\\_classification.py:1344: UndefinedMetricWarning: Precision is ill-defined and being set to 0.0 in labels with no predicted samples. Use `zero_division` parameter to control this behavior.\n",
      "  _warn_prf(average, modifier, msg_start, len(result))\n"
     ]
    },
    {
     "data": {
      "text/html": [
       "<div>\n",
       "<style scoped>\n",
       "    .dataframe tbody tr th:only-of-type {\n",
       "        vertical-align: middle;\n",
       "    }\n",
       "\n",
       "    .dataframe tbody tr th {\n",
       "        vertical-align: top;\n",
       "    }\n",
       "\n",
       "    .dataframe thead th {\n",
       "        text-align: right;\n",
       "    }\n",
       "</style>\n",
       "<table border=\"1\" class=\"dataframe\">\n",
       "  <thead>\n",
       "    <tr style=\"text-align: right;\">\n",
       "      <th></th>\n",
       "      <th>Naive Bayse</th>\n",
       "    </tr>\n",
       "  </thead>\n",
       "  <tbody>\n",
       "    <tr>\n",
       "      <th>Accuracy</th>\n",
       "      <td>0.63</td>\n",
       "    </tr>\n",
       "    <tr>\n",
       "      <th>Precision Wgt</th>\n",
       "      <td>0.70</td>\n",
       "    </tr>\n",
       "    <tr>\n",
       "      <th>F1 Score Wgt</th>\n",
       "      <td>0.63</td>\n",
       "    </tr>\n",
       "    <tr>\n",
       "      <th>Recall Wgt</th>\n",
       "      <td>0.63</td>\n",
       "    </tr>\n",
       "  </tbody>\n",
       "</table>\n",
       "</div>"
      ],
      "text/plain": [
       "               Naive Bayse\n",
       "Accuracy              0.63\n",
       "Precision Wgt         0.70\n",
       "F1 Score Wgt          0.63\n",
       "Recall Wgt            0.63"
      ]
     },
     "execution_count": 7,
     "metadata": {},
     "output_type": "execute_result"
    }
   ],
   "source": [
    "model = GaussianNB()\n",
    "model.fit(x_train,y_train)\n",
    "y_pred = model.predict(x_test)\n",
    "rep = report('Naive Bayse',y_test,y_pred)\n",
    "rep"
   ]
  },
  {
   "cell_type": "code",
   "execution_count": 90,
   "id": "674cc305",
   "metadata": {},
   "outputs": [],
   "source": [
    "reduction = PCA(n_components=2)\n",
    "x_train_pca = reduction.fit_transform(x_train)\n",
    "x_test_pca = reduction.fit_transform(x_test)"
   ]
  },
  {
   "cell_type": "code",
   "execution_count": 91,
   "id": "e0899942",
   "metadata": {},
   "outputs": [
    {
     "name": "stdout",
     "output_type": "stream",
     "text": [
      "Model Accuracy  0.630057803468208\n"
     ]
    }
   ],
   "source": [
    "model = GaussianNB()\n",
    "model.fit(x_train,y_train)\n",
    "y_pred = model.predict(x_test)\n",
    "acc = accuracy_score(y_test,y_pred)\n",
    "print('Model Accuracy ',acc)"
   ]
  },
  {
   "cell_type": "code",
   "execution_count": 92,
   "id": "db6c353c",
   "metadata": {},
   "outputs": [
    {
     "name": "stdout",
     "output_type": "stream",
     "text": [
      "Model Accuracy  0.708092485549133\n"
     ]
    }
   ],
   "source": [
    "model = GaussianNB()\n",
    "model.fit(x_train_pca,y_train)\n",
    "y_pred = model.predict(x_test_pca)\n",
    "acc = accuracy_score(y_test,y_pred)\n",
    "acc = accuracy_score(y_test,y_pred)\n",
    "print('Model Accuracy ',acc)"
   ]
  },
  {
   "cell_type": "code",
   "execution_count": null,
   "id": "30180479",
   "metadata": {},
   "outputs": [],
   "source": []
  }
 ],
 "metadata": {
  "kernelspec": {
   "display_name": "Python 3 (ipykernel)",
   "language": "python",
   "name": "python3"
  },
  "language_info": {
   "codemirror_mode": {
    "name": "ipython",
    "version": 3
   },
   "file_extension": ".py",
   "mimetype": "text/x-python",
   "name": "python",
   "nbconvert_exporter": "python",
   "pygments_lexer": "ipython3",
   "version": "3.11.3"
  }
 },
 "nbformat": 4,
 "nbformat_minor": 5
}
