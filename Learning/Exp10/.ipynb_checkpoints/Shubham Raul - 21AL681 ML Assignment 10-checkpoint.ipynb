{
 "cells": [
  {
   "cell_type": "markdown",
   "id": "2abfe300",
   "metadata": {},
   "source": [
    "**Shubham Gopal Raul**  \n",
    "*CB.EN.P2AEL23023*<br>"
   ]
  },
  {
   "cell_type": "markdown",
   "id": "c65931e2",
   "metadata": {},
   "source": [
    "## <center>21BM681 Machine Learning and Embedded Programming Lab 10</center>"
   ]
  },
  {
   "cell_type": "markdown",
   "id": "f7b39520",
   "metadata": {},
   "source": [
    "### <center>Decision Making – Multi-layer Perceptron</center>"
   ]
  },
  {
   "cell_type": "code",
   "execution_count": 3,
   "id": "7240f1be",
   "metadata": {},
   "outputs": [],
   "source": [
    "import pandas as pd\n",
    "import numpy as np\n",
    "from sklearn.preprocessing import LabelEncoder\n",
    "from sklearn.model_selection import train_test_split\n",
    "from sklearn.neural_network import MLPClassifier\n",
    "from sklearn.metrics import classification_report, confusion_matrix\n",
    "import seaborn as sns\n",
    "import matplotlib.pyplot as plt\n",
    "import warnings\n",
    "warnings.filterwarnings('ignore')"
   ]
  },
  {
   "cell_type": "code",
   "execution_count": 33,
   "id": "07b4d609",
   "metadata": {},
   "outputs": [],
   "source": [
    "def MLPModel(X_train, X_test, Y_train, Y_test,layer):\n",
    "    perceptron = MLPClassifier(hidden_layer_sizes=layer,max_iter=1000)\n",
    "    perceptron.fit(X_train,Y_train)\n",
    "    Y_pred = perceptron.predict(X_test)\n",
    "    print(classification_report(Y_test,Y_pred))\n",
    "    sns.heatmap(confusion_matrix(Y_test,Y_pred),annot=True,fmt='g')\n",
    "    return"
   ]
  },
  {
   "cell_type": "markdown",
   "id": "908985a3",
   "metadata": {},
   "source": [
    "### Iris Dataset"
   ]
  },
  {
   "cell_type": "code",
   "execution_count": 34,
   "id": "edb3f515",
   "metadata": {},
   "outputs": [
    {
     "data": {
      "text/html": [
       "<div>\n",
       "<style scoped>\n",
       "    .dataframe tbody tr th:only-of-type {\n",
       "        vertical-align: middle;\n",
       "    }\n",
       "\n",
       "    .dataframe tbody tr th {\n",
       "        vertical-align: top;\n",
       "    }\n",
       "\n",
       "    .dataframe thead th {\n",
       "        text-align: right;\n",
       "    }\n",
       "</style>\n",
       "<table border=\"1\" class=\"dataframe\">\n",
       "  <thead>\n",
       "    <tr style=\"text-align: right;\">\n",
       "      <th></th>\n",
       "      <th>Sepal_length</th>\n",
       "      <th>Sepal_width</th>\n",
       "      <th>Petal_length</th>\n",
       "      <th>Petal_width</th>\n",
       "      <th>Species</th>\n",
       "    </tr>\n",
       "  </thead>\n",
       "  <tbody>\n",
       "    <tr>\n",
       "      <th>0</th>\n",
       "      <td>5.1</td>\n",
       "      <td>3.5</td>\n",
       "      <td>1.4</td>\n",
       "      <td>0.2</td>\n",
       "      <td>0</td>\n",
       "    </tr>\n",
       "    <tr>\n",
       "      <th>1</th>\n",
       "      <td>4.9</td>\n",
       "      <td>3.0</td>\n",
       "      <td>1.4</td>\n",
       "      <td>0.2</td>\n",
       "      <td>0</td>\n",
       "    </tr>\n",
       "    <tr>\n",
       "      <th>2</th>\n",
       "      <td>4.7</td>\n",
       "      <td>3.2</td>\n",
       "      <td>1.3</td>\n",
       "      <td>0.2</td>\n",
       "      <td>0</td>\n",
       "    </tr>\n",
       "    <tr>\n",
       "      <th>3</th>\n",
       "      <td>4.6</td>\n",
       "      <td>3.1</td>\n",
       "      <td>1.5</td>\n",
       "      <td>0.2</td>\n",
       "      <td>0</td>\n",
       "    </tr>\n",
       "    <tr>\n",
       "      <th>4</th>\n",
       "      <td>5.0</td>\n",
       "      <td>3.6</td>\n",
       "      <td>1.4</td>\n",
       "      <td>0.2</td>\n",
       "      <td>0</td>\n",
       "    </tr>\n",
       "  </tbody>\n",
       "</table>\n",
       "</div>"
      ],
      "text/plain": [
       "   Sepal_length  Sepal_width  Petal_length  Petal_width  Species\n",
       "0           5.1          3.5           1.4          0.2        0\n",
       "1           4.9          3.0           1.4          0.2        0\n",
       "2           4.7          3.2           1.3          0.2        0\n",
       "3           4.6          3.1           1.5          0.2        0\n",
       "4           5.0          3.6           1.4          0.2        0"
      ]
     },
     "execution_count": 34,
     "metadata": {},
     "output_type": "execute_result"
    }
   ],
   "source": [
    "iris_data = pd.read_csv('../Data/iris.csv',names=['Sepal_length','Sepal_width','Petal_length','Petal_width','Species'])\n",
    "Encoder = LabelEncoder()\n",
    "iris_data['Species'] = Encoder.fit_transform(iris_data['Species'])\n",
    "iris_data.head()"
   ]
  },
  {
   "cell_type": "code",
   "execution_count": 35,
   "id": "afc073ec",
   "metadata": {},
   "outputs": [],
   "source": [
    " x_train, x_test, y_train, y_test = train_test_split(iris_data.drop('Species',axis=1),iris_data.Species,test_size=0.2,random_state=100)"
   ]
  },
  {
   "cell_type": "code",
   "execution_count": 37,
   "id": "3a79ab9e",
   "metadata": {},
   "outputs": [
    {
     "name": "stdout",
     "output_type": "stream",
     "text": [
      "for hidden layer  1\n",
      "              precision    recall  f1-score   support\n",
      "\n",
      "           0       1.00      1.00      1.00        11\n",
      "           1       1.00      1.00      1.00         6\n",
      "           2       1.00      1.00      1.00        13\n",
      "\n",
      "    accuracy                           1.00        30\n",
      "   macro avg       1.00      1.00      1.00        30\n",
      "weighted avg       1.00      1.00      1.00        30\n",
      "\n",
      "for hidden layer  2\n",
      "              precision    recall  f1-score   support\n",
      "\n",
      "           0       1.00      1.00      1.00        11\n",
      "           1       1.00      1.00      1.00         6\n",
      "           2       1.00      1.00      1.00        13\n",
      "\n",
      "    accuracy                           1.00        30\n",
      "   macro avg       1.00      1.00      1.00        30\n",
      "weighted avg       1.00      1.00      1.00        30\n",
      "\n",
      "for hidden layer  3\n",
      "              precision    recall  f1-score   support\n",
      "\n",
      "           0       1.00      1.00      1.00        11\n",
      "           1       1.00      1.00      1.00         6\n",
      "           2       1.00      1.00      1.00        13\n",
      "\n",
      "    accuracy                           1.00        30\n",
      "   macro avg       1.00      1.00      1.00        30\n",
      "weighted avg       1.00      1.00      1.00        30\n",
      "\n",
      "for hidden layer  4\n",
      "              precision    recall  f1-score   support\n",
      "\n",
      "           0       1.00      1.00      1.00        11\n",
      "           1       1.00      1.00      1.00         6\n",
      "           2       1.00      1.00      1.00        13\n",
      "\n",
      "    accuracy                           1.00        30\n",
      "   macro avg       1.00      1.00      1.00        30\n",
      "weighted avg       1.00      1.00      1.00        30\n",
      "\n"
     ]
    },
    {
     "data": {
      "image/png": "[encoded data removed]",
      "text/plain": [
       "<Figure size 1000x600 with 8 Axes>"
      ]
     },
     "metadata": {},
     "output_type": "display_data"
    }
   ],
   "source": [
    "Layer=[10,[10,5],[10,5,3],[10,5,3,2]]\n",
    "fig = plt.figure(figsize=(10,6))\n",
    "for i in range(4):\n",
    "    ax = fig.add_subplot(2,2,i+1)\n",
    "    print(\"for hidden layer \",i+1)\n",
    "    MLPModel(x_train, x_test, y_train, y_test,Layer[i])\n",
    "    plt.tight_layout()\n"
   ]
  },
  {
   "cell_type": "markdown",
   "id": "ff323edb",
   "metadata": {},
   "source": [
    "### Car Evaluation Dataset"
   ]
  },
  {
   "cell_type": "code",
   "execution_count": 38,
   "id": "6a8a0211",
   "metadata": {},
   "outputs": [
    {
     "data": {
      "text/html": [
       "<div>\n",
       "<style scoped>\n",
       "    .dataframe tbody tr th:only-of-type {\n",
       "        vertical-align: middle;\n",
       "    }\n",
       "\n",
       "    .dataframe tbody tr th {\n",
       "        vertical-align: top;\n",
       "    }\n",
       "\n",
       "    .dataframe thead th {\n",
       "        text-align: right;\n",
       "    }\n",
       "</style>\n",
       "<table border=\"1\" class=\"dataframe\">\n",
       "  <thead>\n",
       "    <tr style=\"text-align: right;\">\n",
       "      <th></th>\n",
       "      <th>Buying_price</th>\n",
       "      <th>Maintainance_Price</th>\n",
       "      <th>No_of_doors</th>\n",
       "      <th>Person_Capacity</th>\n",
       "      <th>Size_of_luggage</th>\n",
       "      <th>Safety</th>\n",
       "      <th>Acceptability</th>\n",
       "    </tr>\n",
       "  </thead>\n",
       "  <tbody>\n",
       "    <tr>\n",
       "      <th>0</th>\n",
       "      <td>3</td>\n",
       "      <td>3</td>\n",
       "      <td>0</td>\n",
       "      <td>0</td>\n",
       "      <td>2</td>\n",
       "      <td>1</td>\n",
       "      <td>2</td>\n",
       "    </tr>\n",
       "    <tr>\n",
       "      <th>1</th>\n",
       "      <td>3</td>\n",
       "      <td>3</td>\n",
       "      <td>0</td>\n",
       "      <td>0</td>\n",
       "      <td>2</td>\n",
       "      <td>2</td>\n",
       "      <td>2</td>\n",
       "    </tr>\n",
       "    <tr>\n",
       "      <th>2</th>\n",
       "      <td>3</td>\n",
       "      <td>3</td>\n",
       "      <td>0</td>\n",
       "      <td>0</td>\n",
       "      <td>2</td>\n",
       "      <td>0</td>\n",
       "      <td>2</td>\n",
       "    </tr>\n",
       "    <tr>\n",
       "      <th>3</th>\n",
       "      <td>3</td>\n",
       "      <td>3</td>\n",
       "      <td>0</td>\n",
       "      <td>0</td>\n",
       "      <td>1</td>\n",
       "      <td>1</td>\n",
       "      <td>2</td>\n",
       "    </tr>\n",
       "    <tr>\n",
       "      <th>4</th>\n",
       "      <td>3</td>\n",
       "      <td>3</td>\n",
       "      <td>0</td>\n",
       "      <td>0</td>\n",
       "      <td>1</td>\n",
       "      <td>2</td>\n",
       "      <td>2</td>\n",
       "    </tr>\n",
       "  </tbody>\n",
       "</table>\n",
       "</div>"
      ],
      "text/plain": [
       "   Buying_price  Maintainance_Price  No_of_doors  Person_Capacity  \\\n",
       "0             3                   3            0                0   \n",
       "1             3                   3            0                0   \n",
       "2             3                   3            0                0   \n",
       "3             3                   3            0                0   \n",
       "4             3                   3            0                0   \n",
       "\n",
       "   Size_of_luggage  Safety  Acceptability  \n",
       "0                2       1              2  \n",
       "1                2       2              2  \n",
       "2                2       0              2  \n",
       "3                1       1              2  \n",
       "4                1       2              2  "
      ]
     },
     "execution_count": 38,
     "metadata": {},
     "output_type": "execute_result"
    }
   ],
   "source": [
    "car_data = car_data = pd.read_csv('../Data/car_evaluation.csv',names=['Buying_price','Maintainance_Price','No_of_doors','Person_Capacity','Size_of_luggage','Safety','Acceptability'])\n",
    "Encoder = LabelEncoder()\n",
    "for i in car_data.columns:\n",
    "    car_data[i] = Encoder.fit_transform(car_data[i])\n",
    "car_data.head()"
   ]
  },
  {
   "cell_type": "code",
   "execution_count": 40,
   "id": "800806a6",
   "metadata": {},
   "outputs": [],
   "source": [
    " x_train, x_test, y_train, y_test = train_test_split(car_data.drop('Acceptability',axis=1),car_data.Acceptability,test_size=0.2,random_state=100)\n"
   ]
  },
  {
   "cell_type": "code",
   "execution_count": 42,
   "id": "efa34171",
   "metadata": {},
   "outputs": [
    {
     "name": "stdout",
     "output_type": "stream",
     "text": [
      "for hidden layer  1\n",
      "              precision    recall  f1-score   support\n",
      "\n",
      "           0       0.70      0.93      0.80        72\n",
      "           1       0.50      0.06      0.11        17\n",
      "           2       0.98      0.96      0.97       248\n",
      "           3       0.80      0.44      0.57         9\n",
      "\n",
      "    accuracy                           0.90       346\n",
      "   macro avg       0.75      0.60      0.61       346\n",
      "weighted avg       0.90      0.90      0.88       346\n",
      "\n",
      "for hidden layer  2\n",
      "              precision    recall  f1-score   support\n",
      "\n",
      "           0       0.81      0.90      0.86        72\n",
      "           1       0.92      0.71      0.80        17\n",
      "           2       0.98      0.97      0.97       248\n",
      "           3       0.71      0.56      0.63         9\n",
      "\n",
      "    accuracy                           0.93       346\n",
      "   macro avg       0.86      0.78      0.81       346\n",
      "weighted avg       0.93      0.93      0.93       346\n",
      "\n",
      "for hidden layer  3\n",
      "              precision    recall  f1-score   support\n",
      "\n",
      "           0       0.89      0.99      0.93        72\n",
      "           1       1.00      0.88      0.94        17\n",
      "           2       1.00      0.98      0.99       248\n",
      "           3       0.88      0.78      0.82         9\n",
      "\n",
      "    accuracy                           0.97       346\n",
      "   macro avg       0.94      0.91      0.92       346\n",
      "weighted avg       0.97      0.97      0.97       346\n",
      "\n",
      "for hidden layer  4\n",
      "              precision    recall  f1-score   support\n",
      "\n",
      "           0       0.86      0.97      0.92        72\n",
      "           1       0.94      0.88      0.91        17\n",
      "           2       1.00      0.97      0.98       248\n",
      "           3       0.89      0.89      0.89         9\n",
      "\n",
      "    accuracy                           0.96       346\n",
      "   macro avg       0.92      0.93      0.92       346\n",
      "weighted avg       0.97      0.96      0.96       346\n",
      "\n"
     ]
    },
    {
     "data": {
      "image/png": "[encoded data removed]",
      "text/plain": [
       "<Figure size 1000x600 with 8 Axes>"
      ]
     },
     "metadata": {},
     "output_type": "display_data"
    }
   ],
   "source": [
    "Layer=[10,[10,10],[10,10,10],[10,10,10,10]]\n",
    "fig = plt.figure(figsize=(10,6))\n",
    "for i in range(4):\n",
    "    ax = fig.add_subplot(2,2,i+1)\n",
    "    print(\"for hidden layer \",i+1)\n",
    "    MLPModel(x_train, x_test, y_train, y_test,Layer[i])\n",
    "    plt.tight_layout()"
   ]
  },
  {
   "cell_type": "code",
   "execution_count": null,
   "id": "f728f54f",
   "metadata": {},
   "outputs": [],
   "source": []
  }
 ],
 "metadata": {
  "kernelspec": {
   "display_name": "Python 3 (ipykernel)",
   "language": "python",
   "name": "python3"
  },
  "language_info": {
   "codemirror_mode": {
    "name": "ipython",
    "version": 3
   },
   "file_extension": ".py",
   "mimetype": "text/x-python",
   "name": "python",
   "nbconvert_exporter": "python",
   "pygments_lexer": "ipython3",
   "version": "3.11.3"
  }
 },
 "nbformat": 4,
 "nbformat_minor": 5
}
