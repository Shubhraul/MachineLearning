{
 "cells": [
  {
   "cell_type": "markdown",
   "id": "3384d3e9",
   "metadata": {},
   "source": [
    "**Shubham Gopal Raul**  \n",
    "*CB.EN.P2AEL23023*<br> "
   ]
  },
  {
   "cell_type": "markdown",
   "id": "28f5902f",
   "metadata": {},
   "source": [
    "## <center>21BM681 Machine Learning and Embedded Programming Lab 1</center>"
   ]
  },
  {
   "cell_type": "markdown",
   "id": "f9845265",
   "metadata": {},
   "source": [
    "1. Generate a sample with 10 features. \n"
   ]
  },
  {
   "cell_type": "code",
   "execution_count": 1,
   "id": "4544dfc8",
   "metadata": {},
   "outputs": [],
   "source": [
    "import pandas as pd\n",
    "import numpy as np\n",
    "import statistics as stats"
   ]
  },
  {
   "cell_type": "code",
   "execution_count": 2,
   "id": "7f516f52",
   "metadata": {},
   "outputs": [
    {
     "name": "stdout",
     "output_type": "stream",
     "text": [
      "[[0.54340494 0.27836939 0.42451759 0.84477613 0.00471886 0.12156912\n",
      "  0.67074908 0.82585276 0.13670659 0.57509333]]\n"
     ]
    }
   ],
   "source": [
    "np.random.seed(100)\n",
    "ans1 = np.random.rand(1,10)\n",
    "print(ans1)"
   ]
  },
  {
   "cell_type": "markdown",
   "id": "8cdb13ec",
   "metadata": {},
   "source": [
    "<br>\n",
    "2. Create a dataset of size 10x10  "
   ]
  },
  {
   "cell_type": "code",
   "execution_count": 3,
   "id": "fa647e82",
   "metadata": {},
   "outputs": [
    {
     "data": {
      "text/html": [
       "<div>\n",
       "<style scoped>\n",
       "    .dataframe tbody tr th:only-of-type {\n",
       "        vertical-align: middle;\n",
       "    }\n",
       "\n",
       "    .dataframe tbody tr th {\n",
       "        vertical-align: top;\n",
       "    }\n",
       "\n",
       "    .dataframe thead th {\n",
       "        text-align: right;\n",
       "    }\n",
       "</style>\n",
       "<table border=\"1\" class=\"dataframe\">\n",
       "  <thead>\n",
       "    <tr style=\"text-align: right;\">\n",
       "      <th></th>\n",
       "      <th>Name</th>\n",
       "      <th>Sub1</th>\n",
       "      <th>Sub2</th>\n",
       "      <th>Sub3</th>\n",
       "      <th>Sub4</th>\n",
       "      <th>Sub5</th>\n",
       "      <th>Sub6</th>\n",
       "      <th>Sub7</th>\n",
       "      <th>Sub8</th>\n",
       "      <th>Sub9</th>\n",
       "    </tr>\n",
       "  </thead>\n",
       "  <tbody>\n",
       "    <tr>\n",
       "      <th>0</th>\n",
       "      <td>A</td>\n",
       "      <td>48</td>\n",
       "      <td>64</td>\n",
       "      <td>43</td>\n",
       "      <td>79</td>\n",
       "      <td>63</td>\n",
       "      <td>55</td>\n",
       "      <td>88</td>\n",
       "      <td>50</td>\n",
       "      <td>70</td>\n",
       "    </tr>\n",
       "    <tr>\n",
       "      <th>1</th>\n",
       "      <td>B</td>\n",
       "      <td>92</td>\n",
       "      <td>74</td>\n",
       "      <td>93</td>\n",
       "      <td>42</td>\n",
       "      <td>74</td>\n",
       "      <td>54</td>\n",
       "      <td>74</td>\n",
       "      <td>89</td>\n",
       "      <td>88</td>\n",
       "    </tr>\n",
       "    <tr>\n",
       "      <th>2</th>\n",
       "      <td>C</td>\n",
       "      <td>64</td>\n",
       "      <td>55</td>\n",
       "      <td>76</td>\n",
       "      <td>83</td>\n",
       "      <td>98</td>\n",
       "      <td>56</td>\n",
       "      <td>99</td>\n",
       "      <td>49</td>\n",
       "      <td>69</td>\n",
       "    </tr>\n",
       "    <tr>\n",
       "      <th>3</th>\n",
       "      <td>D</td>\n",
       "      <td>62</td>\n",
       "      <td>42</td>\n",
       "      <td>67</td>\n",
       "      <td>84</td>\n",
       "      <td>44</td>\n",
       "      <td>71</td>\n",
       "      <td>41</td>\n",
       "      <td>53</td>\n",
       "      <td>93</td>\n",
       "    </tr>\n",
       "    <tr>\n",
       "      <th>4</th>\n",
       "      <td>E</td>\n",
       "      <td>59</td>\n",
       "      <td>76</td>\n",
       "      <td>44</td>\n",
       "      <td>67</td>\n",
       "      <td>99</td>\n",
       "      <td>43</td>\n",
       "      <td>47</td>\n",
       "      <td>89</td>\n",
       "      <td>87</td>\n",
       "    </tr>\n",
       "    <tr>\n",
       "      <th>5</th>\n",
       "      <td>F</td>\n",
       "      <td>41</td>\n",
       "      <td>54</td>\n",
       "      <td>95</td>\n",
       "      <td>47</td>\n",
       "      <td>99</td>\n",
       "      <td>56</td>\n",
       "      <td>42</td>\n",
       "      <td>97</td>\n",
       "      <td>81</td>\n",
       "    </tr>\n",
       "    <tr>\n",
       "      <th>6</th>\n",
       "      <td>G</td>\n",
       "      <td>70</td>\n",
       "      <td>59</td>\n",
       "      <td>74</td>\n",
       "      <td>93</td>\n",
       "      <td>67</td>\n",
       "      <td>96</td>\n",
       "      <td>86</td>\n",
       "      <td>89</td>\n",
       "      <td>70</td>\n",
       "    </tr>\n",
       "    <tr>\n",
       "      <th>7</th>\n",
       "      <td>H</td>\n",
       "      <td>88</td>\n",
       "      <td>87</td>\n",
       "      <td>79</td>\n",
       "      <td>85</td>\n",
       "      <td>78</td>\n",
       "      <td>84</td>\n",
       "      <td>58</td>\n",
       "      <td>40</td>\n",
       "      <td>96</td>\n",
       "    </tr>\n",
       "    <tr>\n",
       "      <th>8</th>\n",
       "      <td>I</td>\n",
       "      <td>74</td>\n",
       "      <td>93</td>\n",
       "      <td>50</td>\n",
       "      <td>57</td>\n",
       "      <td>48</td>\n",
       "      <td>53</td>\n",
       "      <td>82</td>\n",
       "      <td>70</td>\n",
       "      <td>57</td>\n",
       "    </tr>\n",
       "    <tr>\n",
       "      <th>9</th>\n",
       "      <td>J</td>\n",
       "      <td>93</td>\n",
       "      <td>44</td>\n",
       "      <td>90</td>\n",
       "      <td>80</td>\n",
       "      <td>67</td>\n",
       "      <td>67</td>\n",
       "      <td>59</td>\n",
       "      <td>93</td>\n",
       "      <td>54</td>\n",
       "    </tr>\n",
       "  </tbody>\n",
       "</table>\n",
       "</div>"
      ],
      "text/plain": [
       "  Name  Sub1  Sub2  Sub3  Sub4  Sub5  Sub6  Sub7  Sub8  Sub9\n",
       "0    A    48    64    43    79    63    55    88    50    70\n",
       "1    B    92    74    93    42    74    54    74    89    88\n",
       "2    C    64    55    76    83    98    56    99    49    69\n",
       "3    D    62    42    67    84    44    71    41    53    93\n",
       "4    E    59    76    44    67    99    43    47    89    87\n",
       "5    F    41    54    95    47    99    56    42    97    81\n",
       "6    G    70    59    74    93    67    96    86    89    70\n",
       "7    H    88    87    79    85    78    84    58    40    96\n",
       "8    I    74    93    50    57    48    53    82    70    57\n",
       "9    J    93    44    90    80    67    67    59    93    54"
      ]
     },
     "execution_count": 3,
     "metadata": {},
     "output_type": "execute_result"
    }
   ],
   "source": [
    "names,li = ['A','B','C','D','E','F','G','H','I','J'],[]\n",
    "np.random.seed(100)\n",
    "for i in range(0,len(names)):\n",
    "    li.append([names[i],int(np.random.randint(40,100,size=1)),int(np.random.randint(40,100,size=1)),int(np.random.randint(40,100,size=1)),int(np.random.randint(40,100,size=1)),int(np.random.randint(40,100,size=1)),int(np.random.randint(40,100,size=1)),int(np.random.randint(40,100,size=1)),int(np.random.randint(40,100,size=1)),int(np.random.randint(40,100,size=1))])\n",
    "ans2 = pd.DataFrame(li,columns=['Name','Sub1','Sub2','Sub3','Sub4','Sub5','Sub6','Sub7','Sub8','Sub9'])\n",
    "ans2"
   ]
  },
  {
   "cell_type": "markdown",
   "id": "bfb3a513",
   "metadata": {},
   "source": [
    "<br>\n",
    "3. Identify the function for identifying array’s total number of elements"
   ]
  },
  {
   "cell_type": "code",
   "execution_count": 4,
   "id": "e3bd94c6",
   "metadata": {},
   "outputs": [
    {
     "name": "stdout",
     "output_type": "stream",
     "text": [
      "Size :   100\n"
     ]
    }
   ],
   "source": [
    "ans3 = ans2.size\n",
    "print('Size :  ',ans3)"
   ]
  },
  {
   "cell_type": "markdown",
   "id": "f85c7af5",
   "metadata": {},
   "source": [
    "<br>\n",
    "4. Create a random integer sample vector of dimension 100, where all the elements are  less than or equal to 50. Using the array indexing concept, retrieve the vector’s last and  second last elements."
   ]
  },
  {
   "cell_type": "code",
   "execution_count": 5,
   "id": "cd691317",
   "metadata": {},
   "outputs": [
    {
     "name": "stdout",
     "output_type": "stream",
     "text": [
      "Original Vector :  \n",
      "[[ 8 24  3 39 23 15 48 10 30 34  2 34 14 34 49 48 24 15 36 43 16  9 29 22\n",
      "   2 27 44  4 31  1 13 19 36  4 27  3  7 49 47  1 14  7 16  2 41 30 19 34\n",
      "  27 46 49 30 48 47 39 45 38 44 18  0 34 10 17  8 13 42 30 17  4 40 27 27\n",
      "  19 14  0 13 12 42  3  6  3 20 15 10 23 47  3 41 48 43 36  5  7 38 22 30\n",
      "  34 42 20 31]]\n",
      "\n",
      "Last 2 elements :   [[20 31]]\n"
     ]
    }
   ],
   "source": [
    "np.random.seed(100)\n",
    "ans4 = np.random.randint(0,50,size=(1,100))\n",
    "print('Original Vector :  ',ans4,end='\\n\\n',sep='\\n')\n",
    "print('Last 2 elements :  ',ans4[:,-2:])"
   ]
  },
  {
   "cell_type": "markdown",
   "id": "f926e947",
   "metadata": {},
   "source": [
    "<br>  \n",
    "5. Create a random sample matrix, A, of dimension 5x5 and extract the subarray, B of size  2x2, from the bottom left corner of A"
   ]
  },
  {
   "cell_type": "code",
   "execution_count": 6,
   "id": "42d20208",
   "metadata": {},
   "outputs": [
    {
     "name": "stdout",
     "output_type": "stream",
     "text": [
      "5x5 Matrix :  \n",
      "[[18 34 77 58 20]\n",
      " [62 63 76 24 44]\n",
      " [34 25 70 68 26]\n",
      " [19 12 37 14 41]\n",
      " [11 23 14 69 77]]\n",
      "\n",
      "2x2 Bottom left :  \n",
      "[[19 12]\n",
      " [11 23]]\n"
     ]
    }
   ],
   "source": [
    "np.random.seed(100)\n",
    "ans5_1 = np.random.randint(10,80,size=(5,5))\n",
    "ans5_2 = ans5_1[-2:,:2]\n",
    "print('5x5 Matrix :  ',ans5_1,sep='\\n',end='\\n\\n')\n",
    "print('2x2 Bottom left :  ',ans5_2,sep='\\n')"
   ]
  },
  {
   "cell_type": "markdown",
   "id": "163ba3c7",
   "metadata": {},
   "source": [
    "<br>  \n",
    "6. Convert a random sample 10x10 matrix into a 20x5 matrix  "
   ]
  },
  {
   "cell_type": "code",
   "execution_count": 7,
   "id": "92120c49",
   "metadata": {},
   "outputs": [
    {
     "name": "stdout",
     "output_type": "stream",
     "text": [
      "Array 10x10 Shape :  \n",
      "(10, 10)\n",
      "\n",
      "Reshaped 20x5 array Shape :  \n",
      "(20, 5)\n"
     ]
    }
   ],
   "source": [
    "np.random.seed(100)\n",
    "arr = np.random.randint(0,100,size=(10,10))\n",
    "print(\"Array 10x10 Shape :  \",arr.shape,sep='\\n',end='\\n\\n')\n",
    "ans_6 = arr.reshape((20,5))\n",
    "print('Reshaped 20x5 array Shape :  ',ans_6.shape,sep='\\n')"
   ]
  },
  {
   "cell_type": "markdown",
   "id": "b9f110d3",
   "metadata": {},
   "source": [
    "<br>  \n",
    "7. Split the feature array X = [34, 67, 42, 37, 88, 50, 77, 94, 34, 74] into three other  matrices. The splitting points are 37 and 94."
   ]
  },
  {
   "cell_type": "code",
   "execution_count": 8,
   "id": "b9a821bd",
   "metadata": {},
   "outputs": [
    {
     "name": "stdout",
     "output_type": "stream",
     "text": [
      "Matrix 1 :   [34, 67, 42]\n",
      "\n",
      "Matrix 2 :   [37, 88, 50, 77]\n",
      "\n",
      "Matrix 3 :   [94, 34, 74]\n"
     ]
    }
   ],
   "source": [
    "X = [34, 67, 42, 37, 88, 50, 77, 94, 34, 74]\n",
    "ans7_1 = X[:X.index(37)]\n",
    "ans7_2 = X[X.index(37):X.index(94)]\n",
    "ans7_3 = X[X.index(94):]\n",
    "print('Matrix 1 :  ',ans7_1,end='\\n\\n')\n",
    "print('Matrix 2 :  ',ans7_2,end='\\n\\n')\n",
    "print('Matrix 3 :  ',ans7_3)"
   ]
  },
  {
   "cell_type": "markdown",
   "id": "08496508",
   "metadata": {},
   "source": [
    "<br>  \n",
    "8. Create a sample sequence of 20 evenly spaced numbers between 10 and 20"
   ]
  },
  {
   "cell_type": "code",
   "execution_count": 9,
   "id": "62749d16",
   "metadata": {},
   "outputs": [
    {
     "name": "stdout",
     "output_type": "stream",
     "text": [
      "Sample :  \n",
      "[10.         10.52631579 11.05263158 11.57894737 12.10526316 12.63157895\n",
      " 13.15789474 13.68421053 14.21052632 14.73684211 15.26315789 15.78947368\n",
      " 16.31578947 16.84210526 17.36842105 17.89473684 18.42105263 18.94736842\n",
      " 19.47368421 20.        ]\n"
     ]
    }
   ],
   "source": [
    "ans8 = np.linspace(10,20,20)\n",
    "print('Sample :  ',ans8,sep='\\n')"
   ]
  },
  {
   "cell_type": "markdown",
   "id": "be090cfe",
   "metadata": {},
   "source": [
    "<br>  \n",
    "9. How do you compute the cumulative sum and cumulative product of elements in an array?\n"
   ]
  },
  {
   "cell_type": "code",
   "execution_count": 10,
   "id": "01aae85c",
   "metadata": {},
   "outputs": [
    {
     "name": "stdout",
     "output_type": "stream",
     "text": [
      "X\tsum\tprod\n",
      "2\t2\t2\n",
      "6\t8\t12\n",
      "4\t12\t48\n",
      "3\t15\t144\n",
      "5\t20\t720\n",
      "1\t21\t720\n",
      "9\t30\t6480\n",
      "7\t37\t45360\n",
      "1\t38\t45360\n",
      "5\t43\t226800\n",
      "7\t50\t1587600\n",
      "2\t52\t3175200\n"
     ]
    }
   ],
   "source": [
    "X = [2,6,4,3,5,1,9,7,1,5,7,2]\n",
    "ans9_1 = np.cumsum(X)\n",
    "ans9_2 = np.cumprod(X)\n",
    "print('X\\tsum\\tprod')\n",
    "for i in range(0,len(X)):\n",
    "    print(X[i],ans9_1[i],ans9_2[i],sep='\\t')"
   ]
  },
  {
   "cell_type": "markdown",
   "id": "ee59c7ee",
   "metadata": {},
   "source": [
    "<br>  \n",
    "10. Obtain the statistical measures of a randomly defined dataset.\n"
   ]
  },
  {
   "cell_type": "code",
   "execution_count": 11,
   "id": "32e7bbf2",
   "metadata": {},
   "outputs": [
    {
     "name": "stdout",
     "output_type": "stream",
     "text": [
      "Mean :  0.46\n",
      "Median :  0.43\n",
      "Mode :  0.5434049417909654\n",
      "Variance :  0.0969785877166355\n",
      "Standard Deviation :  0.31\n"
     ]
    }
   ],
   "source": [
    "np.random.seed(100)\n",
    "arr = np.random.rand(50)\n",
    "print('Mean : ',round(arr.mean(),2))\n",
    "print('Median : ',round(np.median(arr),2))\n",
    "print('Mode : ',stats.mode(arr))\n",
    "print('Variance : ',arr.var())\n",
    "print('Standard Deviation : ',round(arr.std(),2))"
   ]
  }
 ],
 "metadata": {
  "kernelspec": {
   "display_name": "Python 3 (ipykernel)",
   "language": "python",
   "name": "python3"
  },
  "language_info": {
   "codemirror_mode": {
    "name": "ipython",
    "version": 3
   },
   "file_extension": ".py",
   "mimetype": "text/x-python",
   "name": "python",
   "nbconvert_exporter": "python",
   "pygments_lexer": "ipython3",
   "version": "3.11.3"
  }
 },
 "nbformat": 4,
 "nbformat_minor": 5
}
