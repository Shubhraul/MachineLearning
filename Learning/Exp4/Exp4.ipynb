{
 "cells": [
  {
   "cell_type": "markdown",
   "id": "8c7b0a09",
   "metadata": {},
   "source": [
    "**Shubham Gopal Raul**  \n",
    "*CB.EN.P2AEL23023*<br> "
   ]
  },
  {
   "cell_type": "markdown",
   "id": "dd58799e",
   "metadata": {},
   "source": [
    "## <center>21BM681 Machine Learning and Embedded Programming Lab 4</center>"
   ]
  },
  {
   "cell_type": "markdown",
   "id": "f1fb6310",
   "metadata": {},
   "source": [
    "### <center>Encoding Technique</center>"
   ]
  },
  {
   "cell_type": "code",
   "execution_count": 1,
   "id": "0ee0fdc9",
   "metadata": {},
   "outputs": [],
   "source": [
    "import numpy as np\n",
    "import pandas as pd\n",
    "from sklearn import preprocessing"
   ]
  },
  {
   "cell_type": "code",
   "execution_count": 2,
   "id": "07999dee",
   "metadata": {},
   "outputs": [
    {
     "data": {
      "text/html": [
       "<div>\n",
       "<style scoped>\n",
       "    .dataframe tbody tr th:only-of-type {\n",
       "        vertical-align: middle;\n",
       "    }\n",
       "\n",
       "    .dataframe tbody tr th {\n",
       "        vertical-align: top;\n",
       "    }\n",
       "\n",
       "    .dataframe thead th {\n",
       "        text-align: right;\n",
       "    }\n",
       "</style>\n",
       "<table border=\"1\" class=\"dataframe\">\n",
       "  <thead>\n",
       "    <tr style=\"text-align: right;\">\n",
       "      <th></th>\n",
       "      <th>Unnamed: 0</th>\n",
       "      <th>Name</th>\n",
       "      <th>Gender</th>\n",
       "      <th>Age</th>\n",
       "      <th>SibSp</th>\n",
       "      <th>Parch</th>\n",
       "      <th>Fare</th>\n",
       "      <th>Passenger_Class</th>\n",
       "      <th>Embark</th>\n",
       "      <th>Survived</th>\n",
       "    </tr>\n",
       "    <tr>\n",
       "      <th>PassengerId</th>\n",
       "      <th></th>\n",
       "      <th></th>\n",
       "      <th></th>\n",
       "      <th></th>\n",
       "      <th></th>\n",
       "      <th></th>\n",
       "      <th></th>\n",
       "      <th></th>\n",
       "      <th></th>\n",
       "      <th></th>\n",
       "    </tr>\n",
       "  </thead>\n",
       "  <tbody>\n",
       "    <tr>\n",
       "      <th>1</th>\n",
       "      <td>0</td>\n",
       "      <td>Braund, Mr. Owen Harris</td>\n",
       "      <td>male</td>\n",
       "      <td>22.0</td>\n",
       "      <td>1</td>\n",
       "      <td>0</td>\n",
       "      <td>7.2500</td>\n",
       "      <td>3rd class</td>\n",
       "      <td>Southampton</td>\n",
       "      <td>0</td>\n",
       "    </tr>\n",
       "    <tr>\n",
       "      <th>2</th>\n",
       "      <td>1</td>\n",
       "      <td>Cumings, Mrs. John Bradley (Florence Briggs Th...</td>\n",
       "      <td>female</td>\n",
       "      <td>38.0</td>\n",
       "      <td>1</td>\n",
       "      <td>0</td>\n",
       "      <td>71.2833</td>\n",
       "      <td>1st class</td>\n",
       "      <td>Cherbourg</td>\n",
       "      <td>1</td>\n",
       "    </tr>\n",
       "    <tr>\n",
       "      <th>3</th>\n",
       "      <td>2</td>\n",
       "      <td>Heikkinen, Miss. Laina</td>\n",
       "      <td>female</td>\n",
       "      <td>26.0</td>\n",
       "      <td>0</td>\n",
       "      <td>0</td>\n",
       "      <td>7.9250</td>\n",
       "      <td>3rd class</td>\n",
       "      <td>Southampton</td>\n",
       "      <td>1</td>\n",
       "    </tr>\n",
       "  </tbody>\n",
       "</table>\n",
       "</div>"
      ],
      "text/plain": [
       "             Unnamed: 0                                               Name  \\\n",
       "PassengerId                                                                  \n",
       "1                     0                            Braund, Mr. Owen Harris   \n",
       "2                     1  Cumings, Mrs. John Bradley (Florence Briggs Th...   \n",
       "3                     2                             Heikkinen, Miss. Laina   \n",
       "\n",
       "             Gender   Age  SibSp  Parch     Fare Passenger_Class       Embark  \\\n",
       "PassengerId                                                                     \n",
       "1              male  22.0      1      0   7.2500       3rd class  Southampton   \n",
       "2            female  38.0      1      0  71.2833       1st class    Cherbourg   \n",
       "3            female  26.0      0      0   7.9250       3rd class  Southampton   \n",
       "\n",
       "             Survived  \n",
       "PassengerId            \n",
       "1                   0  \n",
       "2                   1  \n",
       "3                   1  "
      ]
     },
     "execution_count": 2,
     "metadata": {},
     "output_type": "execute_result"
    }
   ],
   "source": [
    "# We are going to use Titanic Dataset for Encoding\n",
    "Titanic = pd.read_csv('../Data/Titanic_Dataset.csv',index_col='PassengerId')\n",
    "Titanic.dropna(inplace=True)\n",
    "Titanic.head(3)"
   ]
  },
  {
   "cell_type": "markdown",
   "id": "a8b0081e",
   "metadata": {},
   "source": [
    "### Label Encoding "
   ]
  },
  {
   "cell_type": "markdown",
   "id": "7bde5455",
   "metadata": {},
   "source": [
    "In the Titanic dataset the column of \"Embark\" and \"Gender\" are categorical feature which need to converted in categorical integers, since there is no order for these label we can use Label Encoding for these "
   ]
  },
  {
   "cell_type": "code",
   "execution_count": 3,
   "id": "15663c85",
   "metadata": {},
   "outputs": [
    {
     "data": {
      "text/plain": [
       "1    453\n",
       "0    259\n",
       "Name: Gender_map, dtype: int64"
      ]
     },
     "execution_count": 3,
     "metadata": {},
     "output_type": "execute_result"
    }
   ],
   "source": [
    "# Encoding using mapping function\n",
    "embark_map = {'Cherbourg':0,'Queenstown':1,'Southampton':2}\n",
    "Titanic['Embark_map'] = Titanic['Embark'].map(embark_map)\n",
    "gender_map = {'male':1,'female':0}\n",
    "Titanic['Gender_map'] = Titanic['Gender'].map(gender_map)\n",
    "Titanic['Embark_map'].value_counts()\n",
    "Titanic['Gender_map'].value_counts()"
   ]
  },
  {
   "cell_type": "code",
   "execution_count": 4,
   "id": "f47190ee",
   "metadata": {},
   "outputs": [
    {
     "data": {
      "text/plain": [
       "1    453\n",
       "0    259\n",
       "Name: Gender_prep, dtype: int64"
      ]
     },
     "execution_count": 4,
     "metadata": {},
     "output_type": "execute_result"
    }
   ],
   "source": [
    "#using sklearn preprocessing model\n",
    "Label_Encoder = preprocessing.LabelEncoder()\n",
    "Titanic['Embark_prep'] = Label_Encoder.fit_transform(Titanic['Embark'])\n",
    "Titanic['Gender_prep'] = Label_Encoder.fit_transform(Titanic['Gender'])\n",
    "Titanic['Embark_prep'].value_counts()\n",
    "Titanic['Gender_prep'].value_counts()"
   ]
  },
  {
   "cell_type": "code",
   "execution_count": 5,
   "id": "1eb69a0f",
   "metadata": {},
   "outputs": [
    {
     "name": "stdout",
     "output_type": "stream",
     "text": [
      "                  Embark  Embark_map  Embark_prep\n",
      "PassengerId                                      \n",
      "1            Southampton           2            2\n",
      "2              Cherbourg           0            0\n",
      "3            Southampton           2            2\n",
      "4            Southampton           2            2\n",
      "5            Southampton           2            2\n",
      "\n",
      "             Gender  Gender_map  Gender_prep\n",
      "PassengerId                                 \n",
      "1              male           1            1\n",
      "2            female           0            0\n",
      "3            female           0            0\n",
      "4            female           0            0\n",
      "5              male           1            1\n"
     ]
    }
   ],
   "source": [
    "print(Titanic[['Embark','Embark_map','Embark_prep']].head(),Titanic[['Gender','Gender_map','Gender_prep']].head(),sep='\\n\\n')"
   ]
  },
  {
   "cell_type": "markdown",
   "id": "f00cda39",
   "metadata": {},
   "source": [
    "### Ordinal Encoding"
   ]
  },
  {
   "cell_type": "markdown",
   "id": "1db73a33",
   "metadata": {},
   "source": [
    "In the titanic dataset for column passenger class since the values are in ordered label we can perform ordinal Encoding on this dataset"
   ]
  },
  {
   "cell_type": "code",
   "execution_count": 6,
   "id": "ee72c3ba",
   "metadata": {},
   "outputs": [
    {
     "data": {
      "text/plain": [
       "2.0    355\n",
       "0.0    184\n",
       "1.0    173\n",
       "Name: Passenger_Class_map, dtype: int64"
      ]
     },
     "execution_count": 6,
     "metadata": {},
     "output_type": "execute_result"
    }
   ],
   "source": [
    "# Encoding using mapping function\n",
    "PClass_map = {'1st class':0.,'2nd class':1.,'3rd class':2.}\n",
    "Titanic['Passenger_Class_map'] = Titanic['Passenger_Class'].map(PClass_map)\n",
    "Titanic['Passenger_Class_map'].value_counts()"
   ]
  },
  {
   "cell_type": "code",
   "execution_count": 8,
   "id": "b287eab8",
   "metadata": {
    "scrolled": false
   },
   "outputs": [
    {
     "data": {
      "text/plain": [
       "2.0    355\n",
       "0.0    184\n",
       "1.0    173\n",
       "Name: Passenger_Class_prep, dtype: int64"
      ]
     },
     "execution_count": 8,
     "metadata": {},
     "output_type": "execute_result"
    }
   ],
   "source": [
    "#using sklearn preprocessing model\n",
    "Ordinal_Encoder = preprocessing.OrdinalEncoder(categories=[['1st class','2nd class','3rd class']])\n",
    "Titanic['Passenger_Class_prep'] = Ordinal_Encoder.fit_transform(Titanic[['Passenger_Class']])\n",
    "Titanic['Passenger_Class_prep'].value_counts()"
   ]
  },
  {
   "cell_type": "code",
   "execution_count": 9,
   "id": "f3b0051b",
   "metadata": {},
   "outputs": [
    {
     "name": "stdout",
     "output_type": "stream",
     "text": [
      "            Passenger_Class  Passenger_Class_map  Passenger_Class_prep\n",
      "PassengerId                                                           \n",
      "1                 3rd class                  2.0                   2.0\n",
      "2                 1st class                  0.0                   0.0\n",
      "3                 3rd class                  2.0                   2.0\n",
      "4                 1st class                  0.0                   0.0\n",
      "5                 3rd class                  2.0                   2.0\n"
     ]
    }
   ],
   "source": [
    "print(Titanic[['Passenger_Class','Passenger_Class_map','Passenger_Class_prep']].head(),sep='\\n\\n')"
   ]
  },
  {
   "cell_type": "markdown",
   "id": "96beba4e",
   "metadata": {},
   "source": [
    "### One-Hot Encoding "
   ]
  },
  {
   "cell_type": "code",
   "execution_count": 10,
   "id": "88a52dd4",
   "metadata": {},
   "outputs": [
    {
     "name": "stdout",
     "output_type": "stream",
     "text": [
      "0    469\n",
      "1    183\n",
      "2     25\n",
      "4     18\n",
      "3     12\n",
      "5      5\n",
      "Name: SibSp, dtype: int64\n",
      "\n",
      "0    519\n",
      "1    110\n",
      "2     68\n",
      "5      5\n",
      "3      5\n",
      "4      4\n",
      "6      1\n",
      "Name: Parch, dtype: int64\n"
     ]
    }
   ],
   "source": [
    "print(Titanic['SibSp'].value_counts(), Titanic['Parch'].value_counts(),sep='\\n\\n')"
   ]
  },
  {
   "cell_type": "markdown",
   "id": "6c373d44",
   "metadata": {},
   "source": [
    "<br>"
   ]
  },
  {
   "cell_type": "markdown",
   "id": "9ecdd0c2",
   "metadata": {},
   "source": [
    "\n",
    "- In the titanic dataset we can use catgorical integer column \"Parch\" to One-Hot Encoding. "
   ]
  },
  {
   "cell_type": "code",
   "execution_count": 11,
   "id": "25c0cd75",
   "metadata": {},
   "outputs": [
    {
     "name": "stdout",
     "output_type": "stream",
     "text": [
      "             Parch_0  Parch_1  Parch_2  Parch_3  Parch_4  Parch_5  Parch_6\n",
      "PassengerId                                                               \n",
      "1                  1        0        0        0        0        0        0\n",
      "2                  1        0        0        0        0        0        0\n",
      "3                  1        0        0        0        0        0        0\n",
      "4                  1        0        0        0        0        0        0\n",
      "5                  1        0        0        0        0        0        0\n"
     ]
    }
   ],
   "source": [
    "# Encoding using dummies function\n",
    "one_hot_encoded_parch = pd.get_dummies(Titanic['Parch'], prefix='Parch')\n",
    "Titanic_dummy = pd.concat([Titanic, one_hot_encoded_parch], axis=1)\n",
    "print(Titanic_dummy.loc[:,'Parch_0':'Parch_6'].head())"
   ]
  },
  {
   "cell_type": "code",
   "execution_count": 12,
   "id": "23cec0d5",
   "metadata": {},
   "outputs": [
    {
     "name": "stdout",
     "output_type": "stream",
     "text": [
      "   Parch_0  Parch_1  Parch_2  Parch_3  Parch_4  Parch_5  Parch_6\n",
      "1      1.0      0.0      0.0      0.0      0.0      0.0      0.0\n",
      "2      1.0      0.0      0.0      0.0      0.0      0.0      0.0\n",
      "3      1.0      0.0      0.0      0.0      0.0      0.0      0.0\n",
      "4      1.0      0.0      0.0      0.0      0.0      0.0      0.0\n",
      "5      1.0      0.0      0.0      0.0      0.0      0.0      0.0\n"
     ]
    }
   ],
   "source": [
    "# Encoding using preprocessing function\n",
    "OneHot_Encoder = preprocessing.OneHotEncoder()\n",
    "encoded_parch = OneHot_Encoder.fit_transform(Titanic[['Parch']]).toarray()\n",
    "encoded_parch_df = pd.DataFrame(encoded_parch, columns=[f'Parch_{i}' for i in range(encoded_parch.shape[1])])\n",
    "Titanic_prep = pd.concat([Titanic, encoded_parch_df], axis=1)\n",
    "print(Titanic_prep.loc[:,'Parch_0':'Parch_6'].head())"
   ]
  }
 ],
 "metadata": {
  "kernelspec": {
   "display_name": "Python 3 (ipykernel)",
   "language": "python",
   "name": "python3"
  },
  "language_info": {
   "codemirror_mode": {
    "name": "ipython",
    "version": 3
   },
   "file_extension": ".py",
   "mimetype": "text/x-python",
   "name": "python",
   "nbconvert_exporter": "python",
   "pygments_lexer": "ipython3",
   "version": "3.11.3"
  }
 },
 "nbformat": 4,
 "nbformat_minor": 5
}
