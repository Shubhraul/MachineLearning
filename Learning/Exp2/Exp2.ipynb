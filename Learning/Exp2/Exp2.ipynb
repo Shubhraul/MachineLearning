{
 "cells": [
  {
   "cell_type": "markdown",
   "id": "a806b674",
   "metadata": {},
   "source": [
    "**Shubham Gopal Raul**  \n",
    "*CB.EN.P2AEL23023*<br> "
   ]
  },
  {
   "cell_type": "markdown",
   "id": "92a47115",
   "metadata": {},
   "source": [
    "## <center>21BM681 Machine Learning and Embedded Programming Lab 2</center>"
   ]
  },
  {
   "cell_type": "markdown",
   "id": "16d449d8",
   "metadata": {},
   "source": [
    "<br>  \n",
    "1. Create a python list, update the list."
   ]
  },
  {
   "cell_type": "code",
   "execution_count": 1,
   "id": "812afcdb",
   "metadata": {},
   "outputs": [],
   "source": [
    "import numpy as np\n",
    "import pandas as pd\n",
    "from sklearn.model_selection import train_test_split"
   ]
  },
  {
   "cell_type": "code",
   "execution_count": 2,
   "id": "0835eaab",
   "metadata": {},
   "outputs": [
    {
     "name": "stdout",
     "output_type": "stream",
     "text": [
      "List :   [1, 2, 3, 4, 5, 6, 7, 8, 9, 10, 11, 12, 13, 14, 15, 16, 17, 18, 19]\n",
      "Updated List :   [1, 2, 3, 4, 5, 6, 7, 8, 9, 10, 11, 12, 13, 14, 15, 16, 17, 18, 19, 55, 41]\n"
     ]
    }
   ],
   "source": [
    "#Creating the python list\n",
    "ans1 = [i for i in range(1,20)]\n",
    "print('List :  ',ans1)\n",
    "#Updating List\n",
    "ans1.append(55)\n",
    "ans1.append(41)\n",
    "print('Updated List :  ',ans1)"
   ]
  },
  {
   "cell_type": "markdown",
   "id": "94996997",
   "metadata": {},
   "source": [
    "<br>  \n",
    "2. Create a python tuple, a sub-tuple from it. Compare list and tuple and note the inference"
   ]
  },
  {
   "cell_type": "code",
   "execution_count": 3,
   "id": "a6647e82",
   "metadata": {},
   "outputs": [
    {
     "name": "stdout",
     "output_type": "stream",
     "text": [
      "Tuple :   (1, 2, 3, 4, 5, 6, 7)\n",
      "Sub-Tuple :   (3, 4, 5)\n"
     ]
    }
   ],
   "source": [
    "ans2_1 = (1,2,3,4,5,6,7)\n",
    "ans2_2 = ans2_1[2:5]\n",
    "print('Tuple :  ',ans2_1)\n",
    "print('Sub-Tuple :  ',ans2_2)"
   ]
  },
  {
   "cell_type": "markdown",
   "id": "872a152a",
   "metadata": {},
   "source": [
    " - From this observation, when python Tuple is compared list, The tuple can not be added or remove elements once it has been created thus its **Immutable** on the other hand List elements can be changed after creation, thus its **Mutable** We can use the tuples when you have a collection of items that should remain constant throughout the program's execution and List use will be when you need a collection of items that might change over time."
   ]
  },
  {
   "cell_type": "markdown",
   "id": "bb6ec640",
   "metadata": {},
   "source": [
    "\n",
    "3. Create a data set having 20 samples and five features. Check the below functions. "
   ]
  },
  {
   "cell_type": "markdown",
   "id": "f12ac3b0",
   "metadata": {},
   "source": [
    "- Shape\n",
    "- Describe\n",
    "- Values\n",
    "- Head\n",
    "- Groupby\n",
    "- drop a column"
   ]
  },
  {
   "cell_type": "code",
   "execution_count": 4,
   "id": "91669b09",
   "metadata": {},
   "outputs": [
    {
     "name": "stdout",
     "output_type": "stream",
     "text": [
      "Shape :  \n",
      "(20, 5)\n",
      "\n",
      "Description :  \n",
      "         Roll No  Subject 1  Subject 2\n",
      "count   20.00000  20.000000  20.000000\n",
      "mean   110.50000  81.050000  64.800000\n",
      "std      5.91608  11.445408  20.643847\n",
      "min    101.00000  62.000000  41.000000\n",
      "25%    105.75000  73.000000  44.000000\n",
      "50%    110.50000  82.500000  63.000000\n",
      "75%    115.25000  91.000000  84.750000\n",
      "max    120.00000  99.000000  99.000000\n",
      "\n",
      "Values :  \n",
      "[[101 'Aarav' 'Male' 68 42]\n",
      " [102 'Diya' 'Female' 84 67]\n",
      " [103 'Aditi' 'Female' 63 84]\n",
      " [104 'Aryan' 'Male' 99 44]\n",
      " [105 'Isha' 'Female' 83 71]\n",
      " [106 'Rahul' 'Male' 75 41]\n",
      " [107 'Neha' 'Female' 70 53]\n",
      " [108 'Riya' 'Female' 90 93]\n",
      " [109 'Ananya' 'Female' 94 59]\n",
      " [110 'Amit' 'Male' 62 76]\n",
      " [111 'Vikram' 'Male' 94 44]\n",
      " [112 'Sneha' 'Female' 74 67]\n",
      " [113 'Rajesh' 'Male' 94 99]\n",
      " [114 'Pooja' 'Female' 84 43]\n",
      " [115 'Arjun' 'Male' 75 47]\n",
      " [116 'Deepika' 'Female' 96 89]\n",
      " [117 'Rohan' 'Male' 76 87]\n",
      " [118 'Kavya' 'Female' 69 41]\n",
      " [119 'Sachin' 'Male' 89 54]\n",
      " [120 'Swati' 'Female' 82 95]]\n",
      "\n",
      "head :  \n",
      "   Roll No   Name  Gender  Subject 1  Subject 2\n",
      "0      101  Aarav    Male         68         42\n",
      "1      102   Diya  Female         84         67\n",
      "2      103  Aditi  Female         63         84\n",
      "3      104  Aryan    Male         99         44\n",
      "4      105   Isha  Female         83         71\n",
      "\n",
      "Groupby :  \n",
      "        Roll No   Name  Subject 1  Subject 2\n",
      "Gender                                      \n",
      "Female      102   Diya         84         67\n",
      "Male        101  Aarav         68         42\n",
      "\n",
      "drop a column :  \n",
      "    Roll No     Name  Gender  Subject 1\n",
      "0       101    Aarav    Male         68\n",
      "1       102     Diya  Female         84\n",
      "2       103    Aditi  Female         63\n",
      "3       104    Aryan    Male         99\n",
      "4       105     Isha  Female         83\n",
      "5       106    Rahul    Male         75\n",
      "6       107     Neha  Female         70\n",
      "7       108     Riya  Female         90\n",
      "8       109   Ananya  Female         94\n",
      "9       110     Amit    Male         62\n",
      "10      111   Vikram    Male         94\n",
      "11      112    Sneha  Female         74\n",
      "12      113   Rajesh    Male         94\n",
      "13      114    Pooja  Female         84\n",
      "14      115    Arjun    Male         75\n",
      "15      116  Deepika  Female         96\n",
      "16      117    Rohan    Male         76\n",
      "17      118    Kavya  Female         69\n",
      "18      119   Sachin    Male         89\n",
      "19      120    Swati  Female         82\n",
      "\n"
     ]
    }
   ],
   "source": [
    "np.random.seed(100)\n",
    "data = {\n",
    "    'Roll No': list(np.arange(101,121,1)),\n",
    "    'Name': ['Aarav', 'Diya', 'Aditi', 'Aryan', 'Isha', 'Rahul', 'Neha', 'Riya', 'Ananya', 'Amit',\n",
    "                'Vikram', 'Sneha', 'Rajesh', 'Pooja', 'Arjun', 'Deepika', 'Rohan', 'Kavya', 'Sachin', 'Swati'],\n",
    "    'Gender': ['Male', 'Female', 'Female', 'Male', 'Female', 'Male', 'Female', 'Female', 'Female', 'Male',\n",
    "               'Male', 'Female', 'Male', 'Female', 'Male', 'Female', 'Male', 'Female', 'Male', 'Female'],\n",
    "    'Subject 1': list(np.random.randint(60,100,size=20)),\n",
    "    'Subject 2': list(np.random.randint(40,100,size=20))\n",
    "}\n",
    "df = pd.DataFrame(data)\n",
    "#Finding the fuction values \n",
    "print('Shape :  ',df.shape,end='\\n\\n',sep='\\n')\n",
    "print('Description :  ',df.describe(),end='\\n\\n',sep='\\n')\n",
    "print('Values :  ',df.values,end='\\n\\n',sep='\\n')\n",
    "print('head :  ',df.head(),end='\\n\\n',sep='\\n')\n",
    "df_grp = df.groupby('Gender')\n",
    "print('Groupby :  ',df_grp.first(),end='\\n\\n',sep='\\n')\n",
    "print('drop a column :  ',df.drop('Subject 2',axis=1),end='\\n\\n',sep='\\n')"
   ]
  },
  {
   "cell_type": "markdown",
   "id": "0ca79908",
   "metadata": {},
   "source": [
    "<br><br>  \n",
    "4. Read a csv file using pandas and do the following"
   ]
  },
  {
   "cell_type": "code",
   "execution_count": 5,
   "id": "645d746a",
   "metadata": {},
   "outputs": [
    {
     "data": {
      "text/html": [
       "<div>\n",
       "<style scoped>\n",
       "    .dataframe tbody tr th:only-of-type {\n",
       "        vertical-align: middle;\n",
       "    }\n",
       "\n",
       "    .dataframe tbody tr th {\n",
       "        vertical-align: top;\n",
       "    }\n",
       "\n",
       "    .dataframe thead th {\n",
       "        text-align: right;\n",
       "    }\n",
       "</style>\n",
       "<table border=\"1\" class=\"dataframe\">\n",
       "  <thead>\n",
       "    <tr style=\"text-align: right;\">\n",
       "      <th></th>\n",
       "      <th>Sepal_length</th>\n",
       "      <th>Sepal_width</th>\n",
       "      <th>Petal_length</th>\n",
       "      <th>Petal_width</th>\n",
       "      <th>Species</th>\n",
       "    </tr>\n",
       "  </thead>\n",
       "  <tbody>\n",
       "    <tr>\n",
       "      <th>0</th>\n",
       "      <td>5.1</td>\n",
       "      <td>3.5</td>\n",
       "      <td>1.4</td>\n",
       "      <td>0.2</td>\n",
       "      <td>Iris-setosa</td>\n",
       "    </tr>\n",
       "    <tr>\n",
       "      <th>1</th>\n",
       "      <td>4.9</td>\n",
       "      <td>3.0</td>\n",
       "      <td>1.4</td>\n",
       "      <td>0.2</td>\n",
       "      <td>Iris-setosa</td>\n",
       "    </tr>\n",
       "    <tr>\n",
       "      <th>2</th>\n",
       "      <td>4.7</td>\n",
       "      <td>3.2</td>\n",
       "      <td>1.3</td>\n",
       "      <td>0.2</td>\n",
       "      <td>Iris-setosa</td>\n",
       "    </tr>\n",
       "  </tbody>\n",
       "</table>\n",
       "</div>"
      ],
      "text/plain": [
       "   Sepal_length  Sepal_width  Petal_length  Petal_width      Species\n",
       "0           5.1          3.5           1.4          0.2  Iris-setosa\n",
       "1           4.9          3.0           1.4          0.2  Iris-setosa\n",
       "2           4.7          3.2           1.3          0.2  Iris-setosa"
      ]
     },
     "execution_count": 5,
     "metadata": {},
     "output_type": "execute_result"
    }
   ],
   "source": [
    "#Reading the iris Dataset\n",
    "Iris = pd.read_csv('../Data/iris.csv',names=['Sepal_length','Sepal_width','Petal_length','Petal_width','Species'])\n",
    "Iris.head(3)"
   ]
  },
  {
   "cell_type": "markdown",
   "id": "756704bc",
   "metadata": {},
   "source": [
    "- Print the information about the data  "
   ]
  },
  {
   "cell_type": "code",
   "execution_count": 6,
   "id": "8316a513",
   "metadata": {},
   "outputs": [
    {
     "name": "stdout",
     "output_type": "stream",
     "text": [
      "Information :  \n",
      "<class 'pandas.core.frame.DataFrame'>\n",
      "RangeIndex: 150 entries, 0 to 149\n",
      "Data columns (total 5 columns):\n",
      " #   Column        Non-Null Count  Dtype  \n",
      "---  ------        --------------  -----  \n",
      " 0   Sepal_length  150 non-null    float64\n",
      " 1   Sepal_width   150 non-null    float64\n",
      " 2   Petal_length  150 non-null    float64\n",
      " 3   Petal_width   150 non-null    float64\n",
      " 4   Species       150 non-null    object \n",
      "dtypes: float64(4), object(1)\n",
      "memory usage: 6.0+ KB\n",
      "None\n"
     ]
    }
   ],
   "source": [
    "print('Information :  ')\n",
    "print(Iris.info())"
   ]
  },
  {
   "cell_type": "markdown",
   "id": "4ad7a047",
   "metadata": {},
   "source": [
    "- Print the statistical information such as mean, standard deviation"
   ]
  },
  {
   "cell_type": "code",
   "execution_count": 7,
   "id": "f821356e",
   "metadata": {},
   "outputs": [
    {
     "name": "stdout",
     "output_type": "stream",
     "text": [
      "Statistics :  \n",
      "       Sepal_length  Sepal_width  Petal_length  Petal_width\n",
      "count    150.000000   150.000000    150.000000   150.000000\n",
      "mean       5.843333     3.054000      3.758667     1.198667\n",
      "std        0.828066     0.433594      1.764420     0.763161\n",
      "min        4.300000     2.000000      1.000000     0.100000\n",
      "25%        5.100000     2.800000      1.600000     0.300000\n",
      "50%        5.800000     3.000000      4.350000     1.300000\n",
      "75%        6.400000     3.300000      5.100000     1.800000\n",
      "max        7.900000     4.400000      6.900000     2.500000\n"
     ]
    }
   ],
   "source": [
    "print('Statistics :  ',Iris.describe(),sep='\\n')"
   ]
  },
  {
   "cell_type": "markdown",
   "id": "f9e1e61f",
   "metadata": {},
   "source": [
    "- Print the data types of each column"
   ]
  },
  {
   "cell_type": "code",
   "execution_count": 8,
   "id": "d7fdb64b",
   "metadata": {},
   "outputs": [
    {
     "name": "stdout",
     "output_type": "stream",
     "text": [
      "Data Types :  \n",
      "Sepal_length    float64\n",
      "Sepal_width     float64\n",
      "Petal_length    float64\n",
      "Petal_width     float64\n",
      "Species          object\n",
      "dtype: object\n"
     ]
    }
   ],
   "source": [
    "print('Data Types :  ',Iris.dtypes,sep='\\n')"
   ]
  },
  {
   "cell_type": "markdown",
   "id": "53071fbe",
   "metadata": {},
   "source": [
    "- Breakdown of the data by class variable"
   ]
  },
  {
   "cell_type": "code",
   "execution_count": 9,
   "id": "9297fcdc",
   "metadata": {},
   "outputs": [
    {
     "name": "stdout",
     "output_type": "stream",
     "text": [
      "Group 1 Iris_setosa :  \n",
      "   Sepal_length  Sepal_width  Petal_length  Petal_width      Species\n",
      "0           5.1          3.5           1.4          0.2  Iris-setosa\n",
      "1           4.9          3.0           1.4          0.2  Iris-setosa\n",
      "2           4.7          3.2           1.3          0.2  Iris-setosa\n",
      "\n",
      "Group 2 Iris_virginica :  \n",
      "     Sepal_length  Sepal_width  Petal_length  Petal_width         Species\n",
      "100           6.3          3.3           6.0          2.5  Iris-virginica\n",
      "101           5.8          2.7           5.1          1.9  Iris-virginica\n",
      "102           7.1          3.0           5.9          2.1  Iris-virginica\n",
      "\n",
      "Group 3 Iris_versicolor :  \n",
      "    Sepal_length  Sepal_width  Petal_length  Petal_width          Species\n",
      "50           7.0          3.2           4.7          1.4  Iris-versicolor\n",
      "51           6.4          3.2           4.5          1.5  Iris-versicolor\n",
      "52           6.9          3.1           4.9          1.5  Iris-versicolor\n"
     ]
    }
   ],
   "source": [
    "Iris_grp = Iris.groupby('Species')\n",
    "print('Group 1 Iris_setosa :  ',Iris_grp.get_group('Iris-setosa').head(3),sep='\\n',end='\\n\\n')\n",
    "print('Group 2 Iris_virginica :  ',Iris_grp.get_group('Iris-virginica').head(3),sep='\\n',end='\\n\\n')\n",
    "print('Group 3 Iris_versicolor :  ',Iris_grp.get_group('Iris-versicolor').head(3),sep='\\n')\n"
   ]
  },
  {
   "cell_type": "markdown",
   "id": "c11138f8",
   "metadata": {},
   "source": [
    "- Importing the data, Splitting the data into training/ test sets"
   ]
  },
  {
   "cell_type": "code",
   "execution_count": 11,
   "id": "9f4dc28f",
   "metadata": {},
   "outputs": [
    {
     "name": "stdout",
     "output_type": "stream",
     "text": [
      "X Trainig data size :   120\n",
      "\n",
      "Y Trainig data size :   120\n",
      "\n",
      "X Testing data size :   30\n",
      "\n",
      "Y Testing data size :   30\n",
      "\n"
     ]
    }
   ],
   "source": [
    "X_train, X_test, y_train, y_test = train_test_split(Iris.drop(Iris.columns[-1],axis=1),Iris['Species'], test_size=0.2, random_state=100)\n",
    "print('X Trainig data size :  ',len(X_train),end='\\n\\n')\n",
    "print('Y Trainig data size :  ',len(y_train),end='\\n\\n')\n",
    "print('X Testing data size :  ',len(X_test),end='\\n\\n')\n",
    "print('Y Testing data size :  ',len(y_test),end='\\n\\n')"
   ]
  },
  {
   "cell_type": "markdown",
   "id": "e4036e6d",
   "metadata": {},
   "source": [
    "- Check the functions mentioned in question 3."
   ]
  },
  {
   "cell_type": "code",
   "execution_count": 12,
   "id": "d41dba65",
   "metadata": {},
   "outputs": [
    {
     "name": "stdout",
     "output_type": "stream",
     "text": [
      "Iris Shape :  \n",
      "(150, 5)\n",
      "\n",
      "Iris Description :  \n",
      "       Sepal_length  Sepal_width  Petal_length  Petal_width\n",
      "count    150.000000   150.000000    150.000000   150.000000\n",
      "mean       5.843333     3.054000      3.758667     1.198667\n",
      "std        0.828066     0.433594      1.764420     0.763161\n",
      "min        4.300000     2.000000      1.000000     0.100000\n",
      "25%        5.100000     2.800000      1.600000     0.300000\n",
      "50%        5.800000     3.000000      4.350000     1.300000\n",
      "75%        6.400000     3.300000      5.100000     1.800000\n",
      "max        7.900000     4.400000      6.900000     2.500000\n",
      "\n",
      "Iris Values :  \n",
      "[[5.1 3.5 1.4 0.2 'Iris-setosa']\n",
      " [4.9 3.0 1.4 0.2 'Iris-setosa']\n",
      " [4.7 3.2 1.3 0.2 'Iris-setosa']\n",
      " [4.6 3.1 1.5 0.2 'Iris-setosa']\n",
      " [5.0 3.6 1.4 0.2 'Iris-setosa']]\n",
      "\n",
      "Iris head :  \n",
      "   Sepal_length  Sepal_width  Petal_length  Petal_width      Species\n",
      "0           5.1          3.5           1.4          0.2  Iris-setosa\n",
      "1           4.9          3.0           1.4          0.2  Iris-setosa\n",
      "2           4.7          3.2           1.3          0.2  Iris-setosa\n",
      "3           4.6          3.1           1.5          0.2  Iris-setosa\n",
      "4           5.0          3.6           1.4          0.2  Iris-setosa\n",
      "\n",
      "Groupby :  \n",
      "                 Sepal_length  Sepal_width  Petal_length  Petal_width\n",
      "Species                                                              \n",
      "Iris-setosa               5.1          3.5           1.4          0.2\n",
      "Iris-versicolor           7.0          3.2           4.7          1.4\n",
      "Iris-virginica            6.3          3.3           6.0          2.5\n",
      "\n",
      "drop a column :  \n",
      "     Sepal_length  Sepal_width  Petal_length  Petal_width\n",
      "0             5.1          3.5           1.4          0.2\n",
      "1             4.9          3.0           1.4          0.2\n",
      "2             4.7          3.2           1.3          0.2\n",
      "3             4.6          3.1           1.5          0.2\n",
      "4             5.0          3.6           1.4          0.2\n",
      "..            ...          ...           ...          ...\n",
      "145           6.7          3.0           5.2          2.3\n",
      "146           6.3          2.5           5.0          1.9\n",
      "147           6.5          3.0           5.2          2.0\n",
      "148           6.2          3.4           5.4          2.3\n",
      "149           5.9          3.0           5.1          1.8\n",
      "\n",
      "[150 rows x 4 columns]\n",
      "\n"
     ]
    }
   ],
   "source": [
    "#Finding the fuction values \n",
    "print('Iris Shape :  ',Iris.shape,end='\\n\\n',sep='\\n')\n",
    "print('Iris Description :  ',Iris.describe(),end='\\n\\n',sep='\\n')\n",
    "print('Iris Values :  ',Iris.values[:5],end='\\n\\n',sep='\\n')\n",
    "print('Iris head :  ',Iris.head(),end='\\n\\n',sep='\\n')\n",
    "Iris_grp = Iris.groupby('Species')\n",
    "print('Groupby :  ',Iris_grp.first(),end='\\n\\n',sep='\\n')\n",
    "print('drop a column :  ',Iris.drop('Species',axis=1),end='\\n\\n',sep='\\n')"
   ]
  },
  {
   "cell_type": "markdown",
   "id": "1d595ab0",
   "metadata": {},
   "source": [
    "<br><br>  \n",
    "5. Write a python program that applies the following loop statements: if, if else, elif, while,for."
   ]
  },
  {
   "cell_type": "code",
   "execution_count": 14,
   "id": "abc0b608",
   "metadata": {},
   "outputs": [
    {
     "name": "stdout",
     "output_type": "stream",
     "text": [
      "Prime Number between 1 to 50 are :  \n",
      "\n",
      "[2, 3, 5, 7, 11, 13, 17, 19, 23, 29, 31, 37, 41, 43, 47]\n"
     ]
    }
   ],
   "source": [
    "# program to list all prime numbers between an interval\n",
    "Nmin,Nmax = [1,50]\n",
    "Prime=[]\n",
    "for i in range(Nmin,Nmax+1):\n",
    "    s,j=1,2\n",
    "    if i <= 1:\n",
    "        s=0\n",
    "    elif i <= 3:\n",
    "        Prime.append(i)\n",
    "        continue\n",
    "    while j*j <= i:\n",
    "        if i%j==0:\n",
    "            s=0\n",
    "        j += 1\n",
    "    if s==1:\n",
    "        Prime.append(i)\n",
    "        continue\n",
    "print('Prime Number between {} to {} are :  '.format(Nmin,Nmax),Prime,sep='\\n\\n')\n",
    "    "
   ]
  },
  {
   "cell_type": "markdown",
   "id": "f6a5ee55",
   "metadata": {},
   "source": [
    "<br><br>\n",
    "6. Write a user defined function program for performing a task."
   ]
  },
  {
   "cell_type": "code",
   "execution_count": 15,
   "id": "8f8d19af",
   "metadata": {},
   "outputs": [
    {
     "name": "stdout",
     "output_type": "stream",
     "text": [
      "Fibonacci Series :  \n",
      "[0, 1, 1, 2, 3, 5, 8, 13, 21, 34, 55, 89, 144, 233, 377, 610, 987, 1597, 2584, 4181, 6765, 10946, 17711, 28657, 46368]\n"
     ]
    }
   ],
   "source": [
    "def fibonacci_series(n):\n",
    "    arr = []\n",
    "    val0, val1 = 0, 1\n",
    "    for i in range(n):\n",
    "        arr.append(val0)\n",
    "        val0,val1 = val1, val0 + val1\n",
    "    return arr\n",
    "\n",
    "print('Fibonacci Series :  ',fibonacci_series(25),sep='\\n')"
   ]
  }
 ],
 "metadata": {
  "kernelspec": {
   "display_name": "Python 3 (ipykernel)",
   "language": "python",
   "name": "python3"
  },
  "language_info": {
   "codemirror_mode": {
    "name": "ipython",
    "version": 3
   },
   "file_extension": ".py",
   "mimetype": "text/x-python",
   "name": "python",
   "nbconvert_exporter": "python",
   "pygments_lexer": "ipython3",
   "version": "3.11.3"
  }
 },
 "nbformat": 4,
 "nbformat_minor": 5
}
